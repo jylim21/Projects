{
 "cells": [
  {
   "cell_type": "markdown",
   "id": "e751710f",
   "metadata": {},
   "source": [
    "# Pre-Requisite\n",
    "## Loading relevant libraries and input data"
   ]
  },
  {
   "cell_type": "code",
   "execution_count": null,
   "id": "b3a6d5a9",
   "metadata": {
    "execution": {
     "iopub.execute_input": "2023-07-10T08:39:07.256047Z",
     "iopub.status.busy": "2023-07-10T08:39:07.255452Z",
     "iopub.status.idle": "2023-07-10T08:39:09.036378Z",
     "shell.execute_reply": "2023-07-10T08:39:09.034606Z"
    },
    "papermill": {
     "duration": 1.8019,
     "end_time": "2023-07-10T08:39:09.039794",
     "exception": false,
     "start_time": "2023-07-10T08:39:07.237894",
     "status": "completed"
    },
    "tags": []
   },
   "outputs": [],
   "source": [
    "import pandas as pd\n",
    "import numpy as np\n",
    "import matplotlib.pyplot as plt\n",
    "import seaborn as sns\n",
    "import warnings\n",
    "from sklearn.metrics import r2_score, mean_squared_error, mean_absolute_error\n",
    "\n",
    "# Data summary\n",
    "def summary(dtf):\n",
    "    sumary=pd.concat([dtf.isna().sum(),((dtf == 0).sum())/dtf.shape[0],dtf.dtypes], axis=1)\n",
    "    sumary=sumary.rename(columns={sumary.columns[0]: 'NaN'})\n",
    "    sumary=sumary.rename(columns={sumary.columns[1]: 'Zeros'})\n",
    "    sumary=sumary.rename(columns={sumary.columns[2]: 'Type'})\n",
    "    sumary['NaN']=sumary['NaN'].astype(str)+' ('+((sumary['NaN']*100/dtf.shape[0]).astype(int)).astype(str)+'%)'\n",
    "    sumary['Zeros']=(sumary['Zeros']*100).astype(int)\n",
    "    sumary['Zeros']=(dtf == 0).sum().astype(str)+' ('+sumary['Zeros'].astype(str)+'%)'\n",
    "    sumary=sumary[['Type','NaN','Zeros']]\n",
    "    return print(sumary)"
   ]
  },
  {
   "cell_type": "code",
   "execution_count": 2,
   "id": "294bb4ee",
   "metadata": {
    "execution": {
     "iopub.execute_input": "2023-07-10T08:39:09.070732Z",
     "iopub.status.busy": "2023-07-10T08:39:09.070204Z",
     "iopub.status.idle": "2023-07-10T08:39:09.130349Z",
     "shell.execute_reply": "2023-07-10T08:39:09.129017Z"
    },
    "papermill": {
     "duration": 0.079855,
     "end_time": "2023-07-10T08:39:09.134190",
     "exception": false,
     "start_time": "2023-07-10T08:39:09.054335",
     "status": "completed"
    },
    "tags": []
   },
   "outputs": [],
   "source": [
    "df_train = pd.read_csv(\"/kaggle/input/laptop-price-prediction/laptops_train.csv\")\n",
    "df_test  = pd.read_csv(\"/kaggle/input/laptop-price-prediction/laptops_test.csv\")"
   ]
  },
  {
   "cell_type": "markdown",
   "id": "002e8d65",
   "metadata": {
    "papermill": {
     "duration": 0.014086,
     "end_time": "2023-07-10T08:39:09.162445",
     "exception": false,
     "start_time": "2023-07-10T08:39:09.148359",
     "status": "completed"
    },
    "tags": []
   },
   "source": [
    "# Data Exploration\n",
    "At a first glance, it is observed that '**Operating System Version**' has zero values (which it should not) and has to be treated further. \n",
    "\n",
    "Some columns are formatted as 'Object' when they are supposed to be numerical such as **Screen Size**, **RAM**, **Weight** etc. and they should be treated right away. "
   ]
  },
  {
   "cell_type": "code",
   "execution_count": 3,
   "id": "1655831b",
   "metadata": {
    "execution": {
     "iopub.execute_input": "2023-07-10T08:39:09.197561Z",
     "iopub.status.busy": "2023-07-10T08:39:09.197077Z",
     "iopub.status.idle": "2023-07-10T08:39:09.273338Z",
     "shell.execute_reply": "2023-07-10T08:39:09.271625Z"
    },
    "papermill": {
     "duration": 0.098198,
     "end_time": "2023-07-10T08:39:09.277388",
     "exception": false,
     "start_time": "2023-07-10T08:39:09.179190",
     "status": "completed"
    },
    "tags": []
   },
   "outputs": [
    {
     "name": "stdout",
     "output_type": "stream",
     "text": [
      "                             Type        NaN   Zeros\n",
      "Manufacturer               object     0 (0%)  0 (0%)\n",
      "Model Name                 object     0 (0%)  0 (0%)\n",
      "Category                   object     0 (0%)  0 (0%)\n",
      "Screen Size                object     0 (0%)  0 (0%)\n",
      "Screen                     object     0 (0%)  0 (0%)\n",
      "CPU                        object     0 (0%)  0 (0%)\n",
      "RAM                        object     0 (0%)  0 (0%)\n",
      " Storage                   object     0 (0%)  0 (0%)\n",
      "GPU                        object     0 (0%)  0 (0%)\n",
      "Operating System           object     0 (0%)  0 (0%)\n",
      "Operating System Version   object  136 (13%)  0 (0%)\n",
      "Weight                     object     0 (0%)  0 (0%)\n",
      "Price                     float64     0 (0%)  0 (0%)\n"
     ]
    },
    {
     "data": {
      "text/html": [
       "<div>\n",
       "<style scoped>\n",
       "    .dataframe tbody tr th:only-of-type {\n",
       "        vertical-align: middle;\n",
       "    }\n",
       "\n",
       "    .dataframe tbody tr th {\n",
       "        vertical-align: top;\n",
       "    }\n",
       "\n",
       "    .dataframe thead th {\n",
       "        text-align: right;\n",
       "    }\n",
       "</style>\n",
       "<table border=\"1\" class=\"dataframe\">\n",
       "  <thead>\n",
       "    <tr style=\"text-align: right;\">\n",
       "      <th></th>\n",
       "      <th>Manufacturer</th>\n",
       "      <th>Model Name</th>\n",
       "      <th>Category</th>\n",
       "      <th>Screen Size</th>\n",
       "      <th>Screen</th>\n",
       "      <th>CPU</th>\n",
       "      <th>RAM</th>\n",
       "      <th>Storage</th>\n",
       "      <th>GPU</th>\n",
       "      <th>Operating System</th>\n",
       "      <th>Operating System Version</th>\n",
       "      <th>Weight</th>\n",
       "      <th>Price</th>\n",
       "    </tr>\n",
       "  </thead>\n",
       "  <tbody>\n",
       "    <tr>\n",
       "      <th>0</th>\n",
       "      <td>Apple</td>\n",
       "      <td>MacBook Pro</td>\n",
       "      <td>Ultrabook</td>\n",
       "      <td>13.3\"</td>\n",
       "      <td>IPS Panel Retina Display 2560x1600</td>\n",
       "      <td>Intel Core i5 2.3GHz</td>\n",
       "      <td>8GB</td>\n",
       "      <td>128GB SSD</td>\n",
       "      <td>Intel Iris Plus Graphics 640</td>\n",
       "      <td>macOS</td>\n",
       "      <td>NaN</td>\n",
       "      <td>1.37kg</td>\n",
       "      <td>11912523.48</td>\n",
       "    </tr>\n",
       "    <tr>\n",
       "      <th>1</th>\n",
       "      <td>Apple</td>\n",
       "      <td>Macbook Air</td>\n",
       "      <td>Ultrabook</td>\n",
       "      <td>13.3\"</td>\n",
       "      <td>1440x900</td>\n",
       "      <td>Intel Core i5 1.8GHz</td>\n",
       "      <td>8GB</td>\n",
       "      <td>128GB Flash Storage</td>\n",
       "      <td>Intel HD Graphics 6000</td>\n",
       "      <td>macOS</td>\n",
       "      <td>NaN</td>\n",
       "      <td>1.34kg</td>\n",
       "      <td>7993374.48</td>\n",
       "    </tr>\n",
       "    <tr>\n",
       "      <th>2</th>\n",
       "      <td>HP</td>\n",
       "      <td>250 G6</td>\n",
       "      <td>Notebook</td>\n",
       "      <td>15.6\"</td>\n",
       "      <td>Full HD 1920x1080</td>\n",
       "      <td>Intel Core i5 7200U 2.5GHz</td>\n",
       "      <td>8GB</td>\n",
       "      <td>256GB SSD</td>\n",
       "      <td>Intel HD Graphics 620</td>\n",
       "      <td>No OS</td>\n",
       "      <td>NaN</td>\n",
       "      <td>1.86kg</td>\n",
       "      <td>5112900.00</td>\n",
       "    </tr>\n",
       "    <tr>\n",
       "      <th>3</th>\n",
       "      <td>Apple</td>\n",
       "      <td>MacBook Pro</td>\n",
       "      <td>Ultrabook</td>\n",
       "      <td>15.4\"</td>\n",
       "      <td>IPS Panel Retina Display 2880x1800</td>\n",
       "      <td>Intel Core i7 2.7GHz</td>\n",
       "      <td>16GB</td>\n",
       "      <td>512GB SSD</td>\n",
       "      <td>AMD Radeon Pro 455</td>\n",
       "      <td>macOS</td>\n",
       "      <td>NaN</td>\n",
       "      <td>1.83kg</td>\n",
       "      <td>22563005.40</td>\n",
       "    </tr>\n",
       "    <tr>\n",
       "      <th>4</th>\n",
       "      <td>Apple</td>\n",
       "      <td>MacBook Pro</td>\n",
       "      <td>Ultrabook</td>\n",
       "      <td>13.3\"</td>\n",
       "      <td>IPS Panel Retina Display 2560x1600</td>\n",
       "      <td>Intel Core i5 3.1GHz</td>\n",
       "      <td>8GB</td>\n",
       "      <td>256GB SSD</td>\n",
       "      <td>Intel Iris Plus Graphics 650</td>\n",
       "      <td>macOS</td>\n",
       "      <td>NaN</td>\n",
       "      <td>1.37kg</td>\n",
       "      <td>16037611.20</td>\n",
       "    </tr>\n",
       "  </tbody>\n",
       "</table>\n",
       "</div>"
      ],
      "text/plain": [
       "  Manufacturer   Model Name   Category Screen Size  \\\n",
       "0        Apple  MacBook Pro  Ultrabook       13.3\"   \n",
       "1        Apple  Macbook Air  Ultrabook       13.3\"   \n",
       "2           HP       250 G6   Notebook       15.6\"   \n",
       "3        Apple  MacBook Pro  Ultrabook       15.4\"   \n",
       "4        Apple  MacBook Pro  Ultrabook       13.3\"   \n",
       "\n",
       "                               Screen                         CPU   RAM  \\\n",
       "0  IPS Panel Retina Display 2560x1600        Intel Core i5 2.3GHz   8GB   \n",
       "1                            1440x900        Intel Core i5 1.8GHz   8GB   \n",
       "2                   Full HD 1920x1080  Intel Core i5 7200U 2.5GHz   8GB   \n",
       "3  IPS Panel Retina Display 2880x1800        Intel Core i7 2.7GHz  16GB   \n",
       "4  IPS Panel Retina Display 2560x1600        Intel Core i5 3.1GHz   8GB   \n",
       "\n",
       "               Storage                           GPU Operating System  \\\n",
       "0            128GB SSD  Intel Iris Plus Graphics 640            macOS   \n",
       "1  128GB Flash Storage        Intel HD Graphics 6000            macOS   \n",
       "2            256GB SSD         Intel HD Graphics 620            No OS   \n",
       "3            512GB SSD            AMD Radeon Pro 455            macOS   \n",
       "4            256GB SSD  Intel Iris Plus Graphics 650            macOS   \n",
       "\n",
       "  Operating System Version  Weight        Price  \n",
       "0                      NaN  1.37kg  11912523.48  \n",
       "1                      NaN  1.34kg   7993374.48  \n",
       "2                      NaN  1.86kg   5112900.00  \n",
       "3                      NaN  1.83kg  22563005.40  \n",
       "4                      NaN  1.37kg  16037611.20  "
      ]
     },
     "execution_count": 3,
     "metadata": {},
     "output_type": "execute_result"
    }
   ],
   "source": [
    "summary(df_train)\n",
    "df_train.head(5)"
   ]
  },
  {
   "cell_type": "markdown",
   "id": "40f8def5",
   "metadata": {
    "papermill": {
     "duration": 0.014667,
     "end_time": "2023-07-10T08:39:09.306626",
     "exception": false,
     "start_time": "2023-07-10T08:39:09.291959",
     "status": "completed"
    },
    "tags": []
   },
   "source": [
    "# Data Preprocessing\n",
    "\n",
    "This step involves removing substrings from supposingly numerical columns and the splitting of columns containing different elements into separate columns as below:\n",
    "\n",
    "1. **Screen** - split as the following\n",
    "   * **Screen Resolution** - We split it further into 3 numerical columns (Width, Height & Area) eg. for 1920x1080, Width=1920, Height=1080, Area=1920*1080=2073600, we then remove \"Height\" column as 'Weight' and 'Area' is enough to provide all 3 informations.\n",
    "     \n",
    "   * **Screen feature** (eg. IPS Display, Touchscreen, Retina Display) - We assign one binary column for each Screen Feature to indicate if the laptop has such screen feature.\n",
    "   \n",
    "2. **Storage** - Splitted into 4 columns indicating volume of each storage type (HDD, SSD, Flash Storage & Hybrid) , each 1TB is converted into 1000GB\n",
    "   \n",
    "3. **CPU** - We extract only the processor speed in GHz and rename it as \"CPU_Speed\"\n",
    "\n",
    "\n",
    "\n"
   ]
  },
  {
   "cell_type": "code",
   "execution_count": 4,
   "id": "7003fe81",
   "metadata": {
    "execution": {
     "iopub.execute_input": "2023-07-10T08:39:09.338337Z",
     "iopub.status.busy": "2023-07-10T08:39:09.337869Z",
     "iopub.status.idle": "2023-07-10T08:39:09.497080Z",
     "shell.execute_reply": "2023-07-10T08:39:09.495769Z"
    },
    "papermill": {
     "duration": 0.178962,
     "end_time": "2023-07-10T08:39:09.500218",
     "exception": false,
     "start_time": "2023-07-10T08:39:09.321256",
     "status": "completed"
    },
    "tags": []
   },
   "outputs": [
    {
     "name": "stdout",
     "output_type": "stream",
     "text": [
      "                             Type        NaN       Zeros\n",
      "Manufacturer               object     0 (0%)      0 (0%)\n",
      "Model Name                 object     0 (0%)      0 (0%)\n",
      "Category                   object     0 (0%)      0 (0%)\n",
      "Screen Size               float64     0 (0%)      0 (0%)\n",
      "Screen                     object     0 (0%)      0 (0%)\n",
      "CPU                        object     0 (0%)      0 (0%)\n",
      "RAM                         int64     0 (0%)      0 (0%)\n",
      " Storage                   object     0 (0%)      0 (0%)\n",
      "GPU                        object     0 (0%)      0 (0%)\n",
      "Operating System           object     0 (0%)      0 (0%)\n",
      "Operating System Version   object  170 (13%)      0 (0%)\n",
      "Weight                    float64     0 (0%)      0 (0%)\n",
      "Price                     float64     0 (0%)      0 (0%)\n",
      "Resolution_1                int64     0 (0%)      0 (0%)\n",
      "Resolution_2                int64     0 (0%)      0 (0%)\n",
      "Resolution_total            int64     0 (0%)      0 (0%)\n",
      "IPS Panel                   int64     0 (0%)   937 (71%)\n",
      "Touchscreen                 int64     0 (0%)  1111 (85%)\n",
      "Retina Display              int64     0 (0%)  1285 (98%)\n",
      "CPU_Speed                 float64     0 (0%)      0 (0%)\n",
      "SSD                         int64     0 (0%)   460 (35%)\n",
      "HDD                         int64     0 (0%)   727 (55%)\n",
      "Flash_Storage               int64     0 (0%)  1227 (94%)\n",
      "Hybrid                      int64     0 (0%)  1290 (99%)\n",
      "OS                         object     0 (0%)      0 (0%)\n"
     ]
    },
    {
     "data": {
      "text/html": [
       "<div>\n",
       "<style scoped>\n",
       "    .dataframe tbody tr th:only-of-type {\n",
       "        vertical-align: middle;\n",
       "    }\n",
       "\n",
       "    .dataframe tbody tr th {\n",
       "        vertical-align: top;\n",
       "    }\n",
       "\n",
       "    .dataframe thead th {\n",
       "        text-align: right;\n",
       "    }\n",
       "</style>\n",
       "<table border=\"1\" class=\"dataframe\">\n",
       "  <thead>\n",
       "    <tr style=\"text-align: right;\">\n",
       "      <th></th>\n",
       "      <th>Manufacturer</th>\n",
       "      <th>Model Name</th>\n",
       "      <th>Category</th>\n",
       "      <th>Screen Size</th>\n",
       "      <th>Screen</th>\n",
       "      <th>CPU</th>\n",
       "      <th>RAM</th>\n",
       "      <th>Storage</th>\n",
       "      <th>GPU</th>\n",
       "      <th>Operating System</th>\n",
       "      <th>...</th>\n",
       "      <th>Resolution_total</th>\n",
       "      <th>IPS Panel</th>\n",
       "      <th>Touchscreen</th>\n",
       "      <th>Retina Display</th>\n",
       "      <th>CPU_Speed</th>\n",
       "      <th>SSD</th>\n",
       "      <th>HDD</th>\n",
       "      <th>Flash_Storage</th>\n",
       "      <th>Hybrid</th>\n",
       "      <th>OS</th>\n",
       "    </tr>\n",
       "  </thead>\n",
       "  <tbody>\n",
       "    <tr>\n",
       "      <th>0</th>\n",
       "      <td>Apple</td>\n",
       "      <td>MacBook Pro</td>\n",
       "      <td>Ultrabook</td>\n",
       "      <td>13.3</td>\n",
       "      <td>IPS Panel Retina Display 2560x1600</td>\n",
       "      <td>Intel Core i5</td>\n",
       "      <td>8</td>\n",
       "      <td>128GB SSD</td>\n",
       "      <td>Intel Iris Plus Graphics 640</td>\n",
       "      <td>macOS</td>\n",
       "      <td>...</td>\n",
       "      <td>4096000</td>\n",
       "      <td>1</td>\n",
       "      <td>0</td>\n",
       "      <td>1</td>\n",
       "      <td>2.3</td>\n",
       "      <td>128</td>\n",
       "      <td>0</td>\n",
       "      <td>0</td>\n",
       "      <td>0</td>\n",
       "      <td>macOS</td>\n",
       "    </tr>\n",
       "    <tr>\n",
       "      <th>1</th>\n",
       "      <td>Apple</td>\n",
       "      <td>Macbook Air</td>\n",
       "      <td>Ultrabook</td>\n",
       "      <td>13.3</td>\n",
       "      <td>1440x900</td>\n",
       "      <td>Intel Core i5</td>\n",
       "      <td>8</td>\n",
       "      <td>128GB Flash Storage</td>\n",
       "      <td>Intel HD Graphics 6000</td>\n",
       "      <td>macOS</td>\n",
       "      <td>...</td>\n",
       "      <td>1296000</td>\n",
       "      <td>0</td>\n",
       "      <td>0</td>\n",
       "      <td>0</td>\n",
       "      <td>1.8</td>\n",
       "      <td>0</td>\n",
       "      <td>0</td>\n",
       "      <td>128</td>\n",
       "      <td>0</td>\n",
       "      <td>macOS</td>\n",
       "    </tr>\n",
       "    <tr>\n",
       "      <th>2</th>\n",
       "      <td>HP</td>\n",
       "      <td>250 G6</td>\n",
       "      <td>Notebook</td>\n",
       "      <td>15.6</td>\n",
       "      <td>Full HD 1920x1080</td>\n",
       "      <td>Intel Core i5 7200U</td>\n",
       "      <td>8</td>\n",
       "      <td>256GB SSD</td>\n",
       "      <td>Intel HD Graphics 620</td>\n",
       "      <td>No OS</td>\n",
       "      <td>...</td>\n",
       "      <td>2073600</td>\n",
       "      <td>0</td>\n",
       "      <td>0</td>\n",
       "      <td>0</td>\n",
       "      <td>2.5</td>\n",
       "      <td>256</td>\n",
       "      <td>0</td>\n",
       "      <td>0</td>\n",
       "      <td>0</td>\n",
       "      <td>No OS</td>\n",
       "    </tr>\n",
       "    <tr>\n",
       "      <th>3</th>\n",
       "      <td>Apple</td>\n",
       "      <td>MacBook Pro</td>\n",
       "      <td>Ultrabook</td>\n",
       "      <td>15.4</td>\n",
       "      <td>IPS Panel Retina Display 2880x1800</td>\n",
       "      <td>Intel Core i7</td>\n",
       "      <td>16</td>\n",
       "      <td>512GB SSD</td>\n",
       "      <td>AMD Radeon Pro 455</td>\n",
       "      <td>macOS</td>\n",
       "      <td>...</td>\n",
       "      <td>5184000</td>\n",
       "      <td>1</td>\n",
       "      <td>0</td>\n",
       "      <td>1</td>\n",
       "      <td>2.7</td>\n",
       "      <td>512</td>\n",
       "      <td>0</td>\n",
       "      <td>0</td>\n",
       "      <td>0</td>\n",
       "      <td>macOS</td>\n",
       "    </tr>\n",
       "    <tr>\n",
       "      <th>4</th>\n",
       "      <td>Apple</td>\n",
       "      <td>MacBook Pro</td>\n",
       "      <td>Ultrabook</td>\n",
       "      <td>13.3</td>\n",
       "      <td>IPS Panel Retina Display 2560x1600</td>\n",
       "      <td>Intel Core i5</td>\n",
       "      <td>8</td>\n",
       "      <td>256GB SSD</td>\n",
       "      <td>Intel Iris Plus Graphics 650</td>\n",
       "      <td>macOS</td>\n",
       "      <td>...</td>\n",
       "      <td>4096000</td>\n",
       "      <td>1</td>\n",
       "      <td>0</td>\n",
       "      <td>1</td>\n",
       "      <td>3.1</td>\n",
       "      <td>256</td>\n",
       "      <td>0</td>\n",
       "      <td>0</td>\n",
       "      <td>0</td>\n",
       "      <td>macOS</td>\n",
       "    </tr>\n",
       "  </tbody>\n",
       "</table>\n",
       "<p>5 rows × 25 columns</p>\n",
       "</div>"
      ],
      "text/plain": [
       "  Manufacturer   Model Name   Category  Screen Size  \\\n",
       "0        Apple  MacBook Pro  Ultrabook         13.3   \n",
       "1        Apple  Macbook Air  Ultrabook         13.3   \n",
       "2           HP       250 G6   Notebook         15.6   \n",
       "3        Apple  MacBook Pro  Ultrabook         15.4   \n",
       "4        Apple  MacBook Pro  Ultrabook         13.3   \n",
       "\n",
       "                               Screen                  CPU  RAM  \\\n",
       "0  IPS Panel Retina Display 2560x1600        Intel Core i5    8   \n",
       "1                            1440x900        Intel Core i5    8   \n",
       "2                   Full HD 1920x1080  Intel Core i5 7200U    8   \n",
       "3  IPS Panel Retina Display 2880x1800        Intel Core i7   16   \n",
       "4  IPS Panel Retina Display 2560x1600        Intel Core i5    8   \n",
       "\n",
       "               Storage                           GPU Operating System  ...  \\\n",
       "0            128GB SSD  Intel Iris Plus Graphics 640            macOS  ...   \n",
       "1  128GB Flash Storage        Intel HD Graphics 6000            macOS  ...   \n",
       "2            256GB SSD         Intel HD Graphics 620            No OS  ...   \n",
       "3            512GB SSD            AMD Radeon Pro 455            macOS  ...   \n",
       "4            256GB SSD  Intel Iris Plus Graphics 650            macOS  ...   \n",
       "\n",
       "  Resolution_total  IPS Panel  Touchscreen  Retina Display  CPU_Speed  SSD  \\\n",
       "0          4096000          1            0               1        2.3  128   \n",
       "1          1296000          0            0               0        1.8    0   \n",
       "2          2073600          0            0               0        2.5  256   \n",
       "3          5184000          1            0               1        2.7  512   \n",
       "4          4096000          1            0               1        3.1  256   \n",
       "\n",
       "   HDD  Flash_Storage  Hybrid       OS  \n",
       "0    0              0       0  macOS    \n",
       "1    0            128       0  macOS    \n",
       "2    0              0       0  No OS    \n",
       "3    0              0       0  macOS    \n",
       "4    0              0       0  macOS    \n",
       "\n",
       "[5 rows x 25 columns]"
      ]
     },
     "execution_count": 4,
     "metadata": {},
     "output_type": "execute_result"
    }
   ],
   "source": [
    "df=pd.concat([df_train,df_test])\n",
    "\n",
    "# Splitting \"Screen\" column\n",
    "df['Screen Size']=df['Screen Size'].str.replace('\"', '').astype(float)\n",
    "df['Resolution_1']=df['Screen'].str.rsplit('x', n=1).str[0].str[-4:].astype(int)\n",
    "df['Resolution_2']=df['Screen'].str.rsplit('x', n=1).str[1].str[-4:].astype(int)\n",
    "df['Resolution_total']=df['Resolution_1']*df['Resolution_2']\n",
    "df['IPS Panel'] = (df['Screen'].str.contains('IPS Panel')).astype(int)\n",
    "df['Touchscreen'] = (df['Screen'].str.contains('Touchscreen')).astype(int)\n",
    "df['Retina Display'] = (df['Screen'].str.contains('Retina Display')).astype(int)\n",
    "\n",
    "# Extracting CPU_Speed from \"CPU\"\n",
    "df['CPU_Speed']=df['CPU'].str.rsplit(n=1).str.get(-1).str.replace('GHz', '').astype(float)\n",
    "df['CPU'] = df['CPU'].str.rsplit(n=1).str[0]\n",
    "\n",
    "# Splitting \"Storage\" into HDD, SSD, Flash Storage & hybrid storage volumes in GB\n",
    "df['SSD']=df[' Storage'].str.extract(r'\\b(\\w+)\\s+SSD\\b')\n",
    "df['HDD']=df[' Storage'].str.extract(r'\\b(\\w+)\\s+HDD\\b')\n",
    "df['Flash_Storage']=df[' Storage'].str.extract(r'\\b(\\w+)\\s+Flash\\sStorage\\b')\n",
    "df['Hybrid']=df[' Storage'].str.extract(r'\\b(\\w+)\\s+Hybrid\\b')\n",
    "df['HDD']=df['HDD'].str.replace('TB','000GB').str.replace('GB','').fillna(0).astype(int)\n",
    "df['SSD']=df['SSD'].str.replace('TB','000GB').str.replace('GB','').fillna(0).astype(int)\n",
    "df['Flash_Storage']=df['Flash_Storage'].str.replace('TB','000GB').str.replace('GB','').fillna(0).astype(int)\n",
    "df['Hybrid']=df['Hybrid'].str.replace('TB','000GB').str.replace('GB','').fillna(0).astype(int)\n",
    "\n",
    "# Combine Operating System and its version\n",
    "df['OS'] = df['Operating System'] + ' ' + df['Operating System Version'].fillna(' ')\n",
    "\n",
    "# Other misc. cleansing steps\n",
    "df['RAM']=df['RAM'].str.replace('GB', '').astype(int)\n",
    "df['Weight']=df['Weight'].str.replace('kgs', '').str.replace('kg', '').astype(float)\n",
    "\n",
    "summary(df)\n",
    "df.head(5)\n"
   ]
  },
  {
   "cell_type": "markdown",
   "id": "b213f506",
   "metadata": {
    "papermill": {
     "duration": 0.015641,
     "end_time": "2023-07-10T08:39:09.531872",
     "exception": false,
     "start_time": "2023-07-10T08:39:09.516231",
     "status": "completed"
    },
    "tags": []
   },
   "source": [
    "# EDA"
   ]
  },
  {
   "cell_type": "markdown",
   "id": "6de9c54d",
   "metadata": {
    "papermill": {
     "duration": 0.014982,
     "end_time": "2023-07-10T08:39:09.562543",
     "exception": false,
     "start_time": "2023-07-10T08:39:09.547561",
     "status": "completed"
    },
    "tags": []
   },
   "source": [
    "**Price Breakdown by Brand:**\n",
    "\n",
    "By observing the price distribution of different laptop brands, we can divide the brands into at least 4 different price tiers according to their price range and median price:\n",
    "* Tier 1   : Vero, Mediacom, Chuwi\n",
    "* Tier 1.5 : Acer, Fujitsu\n",
    "* Tier 2   : HP, Dell, Lenovo, Asus, Xiaomi\n",
    "* Tier 2.5 : Toshiba\n",
    "* Tier 3   : Huawei, Apple, Microsoft, MSI, Samsung , Google\n",
    "* Tier 3.5 : LG\n",
    "* Tier 4   : Razer"
   ]
  },
  {
   "cell_type": "code",
   "execution_count": 5,
   "id": "e0f05934",
   "metadata": {
    "execution": {
     "iopub.execute_input": "2023-07-10T08:39:09.596018Z",
     "iopub.status.busy": "2023-07-10T08:39:09.594860Z",
     "iopub.status.idle": "2023-07-10T08:39:10.265234Z",
     "shell.execute_reply": "2023-07-10T08:39:10.263767Z"
    },
    "papermill": {
     "duration": 0.691427,
     "end_time": "2023-07-10T08:39:10.269393",
     "exception": false,
     "start_time": "2023-07-10T08:39:09.577966",
     "status": "completed"
    },
    "tags": []
   },
   "outputs": [
    {
     "data": {
      "text/plain": [
       "<AxesSubplot:xlabel='Price', ylabel='Manufacturer'>"
      ]
     },
     "execution_count": 5,
     "metadata": {},
     "output_type": "execute_result"
    },
    {
     "data": {
      "image/png": "[encoded data removed]",
      "text/plain": [
       "<Figure size 640x480 with 1 Axes>"
      ]
     },
     "metadata": {},
     "output_type": "display_data"
    }
   ],
   "source": [
    "sns.boxplot(x=df['Price'], y=df['Manufacturer'],orient='h', order=[\"Vero\",\"Mediacom\",\"Chuwi\",\"Acer\",\"Fujitsu\",\"HP\",\"Dell\",\"Lenovo\",\"Asus\",\"Xiaomi\",\"Toshiba\",\"Huawei\",\"Apple\",\"Microsoft\",\"MSI\",\"Google\",\"Samsung\",\"LG\",\"Razer\"])\n",
    "#plt.boxplot(data, notch=None, vert=None, patch_artist=None, widths=None)"
   ]
  },
  {
   "cell_type": "markdown",
   "id": "ba19325a",
   "metadata": {
    "papermill": {
     "duration": 0.016398,
     "end_time": "2023-07-10T08:39:10.303256",
     "exception": false,
     "start_time": "2023-07-10T08:39:10.286858",
     "status": "completed"
    },
    "tags": []
   },
   "source": [
    "**Price Breakdown by Laptop Category**\n",
    "\n",
    "The price difference is obvious between categories, it is observed that *Netbooks* are the cheapest, this is followed by *Notebook* and eventually the costliest laptops are from the *Workstation* Category. \n",
    "\n",
    "Besides, the price distribution *Ultrabook* is fairly close to *2 in 1 Convertible* and *Gaming Laptops* are fairly close in terms of either price range or median price."
   ]
  },
  {
   "cell_type": "code",
   "execution_count": 6,
   "id": "2a851ce5",
   "metadata": {
    "execution": {
     "iopub.execute_input": "2023-07-10T08:39:10.340850Z",
     "iopub.status.busy": "2023-07-10T08:39:10.339409Z",
     "iopub.status.idle": "2023-07-10T08:39:10.703071Z",
     "shell.execute_reply": "2023-07-10T08:39:10.701443Z"
    },
    "papermill": {
     "duration": 0.385419,
     "end_time": "2023-07-10T08:39:10.706526",
     "exception": false,
     "start_time": "2023-07-10T08:39:10.321107",
     "status": "completed"
    },
    "tags": []
   },
   "outputs": [
    {
     "data": {
      "text/plain": [
       "<AxesSubplot:xlabel='Price', ylabel='Category'>"
      ]
     },
     "execution_count": 6,
     "metadata": {},
     "output_type": "execute_result"
    },
    {
     "data": {
      "image/png": "[encoded data removed]",
      "text/plain": [
       "<Figure size 640x480 with 1 Axes>"
      ]
     },
     "metadata": {},
     "output_type": "display_data"
    }
   ],
   "source": [
    "sns.boxplot(x=df['Price'], y=df['Category'],orient='h', order=[\"Netbook\",\"Notebook\",\"2 in 1 Convertible\",\"Ultrabook\",\"Gaming\",\"Workstation\"])"
   ]
  },
  {
   "cell_type": "markdown",
   "id": "92b4abcd",
   "metadata": {
    "papermill": {
     "duration": 0.01858,
     "end_time": "2023-07-10T08:39:10.743489",
     "exception": false,
     "start_time": "2023-07-10T08:39:10.724909",
     "status": "completed"
    },
    "tags": []
   },
   "source": [
    "**Price Breakdown by Operating System Version**\n",
    "\n"
   ]
  },
  {
   "cell_type": "code",
   "execution_count": 7,
   "id": "bcca49ee",
   "metadata": {
    "execution": {
     "iopub.execute_input": "2023-07-10T08:39:10.780453Z",
     "iopub.status.busy": "2023-07-10T08:39:10.779957Z",
     "iopub.status.idle": "2023-07-10T08:39:11.198453Z",
     "shell.execute_reply": "2023-07-10T08:39:11.196698Z"
    },
    "papermill": {
     "duration": 0.441423,
     "end_time": "2023-07-10T08:39:11.201793",
     "exception": false,
     "start_time": "2023-07-10T08:39:10.760370",
     "status": "completed"
    },
    "tags": []
   },
   "outputs": [
    {
     "data": {
      "text/plain": [
       "<AxesSubplot:xlabel='Price', ylabel='OS'>"
      ]
     },
     "execution_count": 7,
     "metadata": {},
     "output_type": "execute_result"
    },
    {
     "data": {
      "image/png": "[encoded data removed]",
      "text/plain": [
       "<Figure size 640x480 with 1 Axes>"
      ]
     },
     "metadata": {},
     "output_type": "display_data"
    }
   ],
   "source": [
    "sns.boxplot(x=df['Price'], y=df['OS'],orient='h', order=[\"Chrome OS  \",\"Android  \",\"No OS  \",\"Linux  \",\"Windows 10\",\"Mac OS X\",\"Windows 10 S\",\"Windows 7\",\"macOS  \"])"
   ]
  },
  {
   "cell_type": "markdown",
   "id": "79f680bb",
   "metadata": {
    "papermill": {
     "duration": 0.017716,
     "end_time": "2023-07-10T08:39:11.237549",
     "exception": false,
     "start_time": "2023-07-10T08:39:11.219833",
     "status": "completed"
    },
    "tags": []
   },
   "source": [
    "**Qualitative Variable EDA (Correlation)**\n",
    "\n",
    "We analyse the relationship between numerical variables and the price using a correlation heatmap. Some findings from the correlation matrix are:\n",
    "\n",
    "1. **Resolution_1**, **Resolution_2** and **Resolution_total** are all positively correlated, we will only keep 1 of the Resolution variable and eliminate the other 2. In this case we keep only **Resolution_1** because it has the highest positive correlation with Price compared to the other 2.\n",
    "2. **Screen Size** and **Weight** are highly correlated (r=0.8) and we will keep the only one which has a greater relationship with **Price**, in this case it would be **Weight** (r=0.2).\n",
    "3. Price is highly positively correlated with **RAM** (r=0.7), **Resolution** (r=0.6) and **SSD** (r=0.7), so we would expect to see laptops with more RAM, higher resolution and greater SSD storage space to be costlier.\n",
    "4. The **Flash_Storage** and **Hybrid** storage columns have little to no relationship (r=0) with the Price and therefore will be removed from the model.\n",
    "\n"
   ]
  },
  {
   "cell_type": "code",
   "execution_count": 8,
   "id": "0d1edc6d",
   "metadata": {
    "execution": {
     "iopub.execute_input": "2023-07-10T08:39:11.276259Z",
     "iopub.status.busy": "2023-07-10T08:39:11.275787Z",
     "iopub.status.idle": "2023-07-10T08:39:13.223282Z",
     "shell.execute_reply": "2023-07-10T08:39:13.221699Z"
    },
    "papermill": {
     "duration": 1.97554,
     "end_time": "2023-07-10T08:39:13.230919",
     "exception": false,
     "start_time": "2023-07-10T08:39:11.255379",
     "status": "completed"
    },
    "tags": []
   },
   "outputs": [
    {
     "data": {
      "text/plain": [
       "<AxesSubplot:>"
      ]
     },
     "execution_count": 8,
     "metadata": {},
     "output_type": "execute_result"
    },
    {
     "data": {
      "image/png": "[encoded data removed]",
      "text/plain": [
       "<Figure size 640x480 with 2 Axes>"
      ]
     },
     "metadata": {},
     "output_type": "display_data"
    }
   ],
   "source": [
    "sns.heatmap(df[['Screen Size','RAM','Weight','Resolution_1','Resolution_2','Resolution_total','CPU_Speed','IPS Panel','Touchscreen','Retina Display','SSD','HDD','Flash_Storage','Hybrid','Price']].corr(), annot=True, fmt=\".1f\")"
   ]
  },
  {
   "cell_type": "markdown",
   "id": "daa7e30c",
   "metadata": {
    "papermill": {
     "duration": 0.020056,
     "end_time": "2023-07-10T08:39:13.275014",
     "exception": false,
     "start_time": "2023-07-10T08:39:13.254958",
     "status": "completed"
    },
    "tags": []
   },
   "source": [
    "Correlation Matrix after removing the relevant columns as below:"
   ]
  },
  {
   "cell_type": "code",
   "execution_count": 9,
   "id": "b801a344",
   "metadata": {
    "execution": {
     "iopub.execute_input": "2023-07-10T08:39:13.319774Z",
     "iopub.status.busy": "2023-07-10T08:39:13.318001Z",
     "iopub.status.idle": "2023-07-10T08:39:14.359600Z",
     "shell.execute_reply": "2023-07-10T08:39:14.357853Z"
    },
    "papermill": {
     "duration": 1.06781,
     "end_time": "2023-07-10T08:39:14.363543",
     "exception": false,
     "start_time": "2023-07-10T08:39:13.295733",
     "status": "completed"
    },
    "tags": []
   },
   "outputs": [
    {
     "data": {
      "text/plain": [
       "<AxesSubplot:>"
      ]
     },
     "execution_count": 9,
     "metadata": {},
     "output_type": "execute_result"
    },
    {
     "data": {
      "image/png": "[encoded data removed]",
      "text/plain": [
       "<Figure size 640x480 with 2 Axes>"
      ]
     },
     "metadata": {},
     "output_type": "display_data"
    }
   ],
   "source": [
    "df=df.drop(['Resolution_2','Resolution_total','Screen Size','Flash_Storage','Hybrid'], axis=1)\n",
    "sns.heatmap(df[['RAM','Weight','Resolution_1','CPU_Speed','IPS Panel','Touchscreen','Retina Display','SSD','HDD','Price']].corr(), annot=True, fmt=\".2f\")"
   ]
  },
  {
   "cell_type": "markdown",
   "id": "417f9dcc",
   "metadata": {
    "papermill": {
     "duration": 0.022088,
     "end_time": "2023-07-10T08:39:14.409957",
     "exception": false,
     "start_time": "2023-07-10T08:39:14.387869",
     "status": "completed"
    },
    "tags": []
   },
   "source": [
    "# Data Transformation\n",
    "\n",
    "Distribution of Weight is observed to be positively skewed. By taking a log-transformation approach, we manage to normalize it despite having a few stubborn outliers."
   ]
  },
  {
   "cell_type": "code",
   "execution_count": 10,
   "id": "2ab66cb8",
   "metadata": {
    "execution": {
     "iopub.execute_input": "2023-07-10T08:39:14.459044Z",
     "iopub.status.busy": "2023-07-10T08:39:14.458514Z",
     "iopub.status.idle": "2023-07-10T08:39:15.166288Z",
     "shell.execute_reply": "2023-07-10T08:39:15.164780Z"
    },
    "papermill": {
     "duration": 0.7372,
     "end_time": "2023-07-10T08:39:15.169900",
     "exception": false,
     "start_time": "2023-07-10T08:39:14.432700",
     "status": "completed"
    },
    "tags": []
   },
   "outputs": [
    {
     "data": {
      "image/png": "[encoded data removed]",
      "text/plain": [
       "<Figure size 1000x500 with 4 Axes>"
      ]
     },
     "metadata": {},
     "output_type": "display_data"
    }
   ],
   "source": [
    "fig, axs = plt.subplots(2, 2, figsize=(10, 5), gridspec_kw={'height_ratios': [1, 5]})\n",
    "sns.boxplot(x=df['Weight'], orient='h', ax=axs[0, 0])\n",
    "axs[0, 0].set_xlabel('')\n",
    "axs[0, 0].set_title('Weight')\n",
    "sns.histplot(x=df['Weight'], ax=axs[1, 0])\n",
    "axs[1, 0].set_xlabel('')\n",
    "axs[1, 0].set_ylabel('')\n",
    "sns.boxplot(x=np.log(df['Weight']), orient='h', ax=axs[0, 1])\n",
    "axs[0, 1].set_xlabel('')\n",
    "axs[0, 1].set_title('log(Weight)')\n",
    "sns.histplot(x=np.log(df['Weight']), ax=axs[1, 1])\n",
    "axs[1, 1].set_xlabel('')\n",
    "axs[1, 1].set_ylabel('')\n",
    "plt.show()"
   ]
  },
  {
   "cell_type": "markdown",
   "id": "77b0fce5",
   "metadata": {
    "papermill": {
     "duration": 0.022421,
     "end_time": "2023-07-10T08:39:15.215975",
     "exception": false,
     "start_time": "2023-07-10T08:39:15.193554",
     "status": "completed"
    },
    "tags": []
   },
   "source": [
    "We do the same for 'HDD' and 'SSD' which are also positively-skewed."
   ]
  },
  {
   "cell_type": "code",
   "execution_count": 11,
   "id": "737f129c",
   "metadata": {
    "execution": {
     "iopub.execute_input": "2023-07-10T08:39:15.264282Z",
     "iopub.status.busy": "2023-07-10T08:39:15.263814Z",
     "iopub.status.idle": "2023-07-10T08:39:15.277152Z",
     "shell.execute_reply": "2023-07-10T08:39:15.275919Z"
    },
    "papermill": {
     "duration": 0.041588,
     "end_time": "2023-07-10T08:39:15.280218",
     "exception": false,
     "start_time": "2023-07-10T08:39:15.238630",
     "status": "completed"
    },
    "tags": []
   },
   "outputs": [],
   "source": [
    "# Log-transforming Positively-skewed fields: Weight, HDD & SSD\n",
    "df['Weight']=np.log(df['Weight'])\n",
    "df['HDD']=np.log(df['HDD'].replace(0, np.nan)).fillna(0)\n",
    "df['SSD']=np.log(df['SSD'].replace(0, np.nan)).fillna(0)\n",
    "\n",
    "# Capping of Outliers in 'Screen Size'\n",
    "# percentiles = df1['Screen Size'].quantile([0.05, 0.95]).values\n",
    "# df1['Screen Size']=np.clip(df1['Screen Size'], percentiles[0], percentiles[1])"
   ]
  },
  {
   "cell_type": "markdown",
   "id": "d837e7e6",
   "metadata": {
    "papermill": {
     "duration": 0.023212,
     "end_time": "2023-07-10T08:39:15.326301",
     "exception": false,
     "start_time": "2023-07-10T08:39:15.303089",
     "status": "completed"
    },
    "tags": []
   },
   "source": [
    "# Feature Engineering\n",
    "We will now perform One-Hot Encoding on the string columns 'Manufacturer', 'Category' and 'OS' to assign a binary indicator column for each unique value, and keep only n-1 of those values.\n",
    "\n",
    "Example: \n",
    "We remove the 'Manufacturer_Chuwi' column because a '0' in all other *Manufacturer* columns will automatically indicate that the laptop's Manufacturer is Chuwi.\n",
    "\n",
    "We will do the same for 'Category' and 'OS' columns and apply the same logic:\n",
    "* 'Category' - Removed 'Category_2 in 1 Convertible'\n",
    "* 'OS'       - Removed 'OS_No OS'\n"
   ]
  },
  {
   "cell_type": "code",
   "execution_count": 12,
   "id": "c780d386",
   "metadata": {
    "execution": {
     "iopub.execute_input": "2023-07-10T08:39:15.376420Z",
     "iopub.status.busy": "2023-07-10T08:39:15.374956Z",
     "iopub.status.idle": "2023-07-10T08:39:15.440821Z",
     "shell.execute_reply": "2023-07-10T08:39:15.439337Z"
    },
    "papermill": {
     "duration": 0.093963,
     "end_time": "2023-07-10T08:39:15.443919",
     "exception": false,
     "start_time": "2023-07-10T08:39:15.349956",
     "status": "completed"
    },
    "tags": []
   },
   "outputs": [
    {
     "name": "stdout",
     "output_type": "stream",
     "text": [
      "                           Type     NaN       Zeros\n",
      "RAM                       int64  0 (0%)      0 (0%)\n",
      "Weight                  float64  0 (0%)      0 (0%)\n",
      "Price                   float64  0 (0%)      0 (0%)\n",
      "Resolution_1              int64  0 (0%)      0 (0%)\n",
      "IPS Panel                 int64  0 (0%)   937 (71%)\n",
      "Touchscreen               int64  0 (0%)  1111 (85%)\n",
      "Retina Display            int64  0 (0%)  1285 (98%)\n",
      "CPU_Speed               float64  0 (0%)      0 (0%)\n",
      "SSD                     float64  0 (0%)   465 (35%)\n",
      "HDD                     float64  0 (0%)   727 (55%)\n",
      "Manufacturer_Acer         uint8  0 (0%)  1199 (92%)\n",
      "Manufacturer_Apple        uint8  0 (0%)  1281 (98%)\n",
      "Manufacturer_Asus         uint8  0 (0%)  1145 (87%)\n",
      "Manufacturer_Dell         uint8  0 (0%)  1005 (77%)\n",
      "Manufacturer_Fujitsu      uint8  0 (0%)  1299 (99%)\n",
      "Manufacturer_Google       uint8  0 (0%)  1299 (99%)\n",
      "Manufacturer_HP           uint8  0 (0%)  1028 (78%)\n",
      "Manufacturer_Huawei       uint8  0 (0%)  1300 (99%)\n",
      "Manufacturer_LG           uint8  0 (0%)  1299 (99%)\n",
      "Manufacturer_Lenovo       uint8  0 (0%)  1005 (77%)\n",
      "Manufacturer_MSI          uint8  0 (0%)  1248 (95%)\n",
      "Manufacturer_Mediacom     uint8  0 (0%)  1295 (99%)\n",
      "Manufacturer_Microsoft    uint8  0 (0%)  1296 (99%)\n",
      "Manufacturer_Razer        uint8  0 (0%)  1295 (99%)\n",
      "Manufacturer_Samsung      uint8  0 (0%)  1293 (99%)\n",
      "Manufacturer_Toshiba      uint8  0 (0%)  1254 (96%)\n",
      "Manufacturer_Vero         uint8  0 (0%)  1298 (99%)\n",
      "Manufacturer_Xiaomi       uint8  0 (0%)  1298 (99%)\n",
      "Category_Gaming           uint8  0 (0%)  1097 (84%)\n",
      "Category_Netbook          uint8  0 (0%)  1277 (98%)\n",
      "Category_Notebook         uint8  0 (0%)   575 (44%)\n",
      "Category_Ultrabook        uint8  0 (0%)  1106 (84%)\n",
      "Category_Workstation      uint8  0 (0%)  1273 (97%)\n",
      "OS_Android                uint8  0 (0%)  1300 (99%)\n",
      "OS_Chrome OS              uint8  0 (0%)  1275 (97%)\n",
      "OS_Linux                  uint8  0 (0%)  1240 (95%)\n",
      "OS_Mac OS X               uint8  0 (0%)  1294 (99%)\n",
      "OS_Windows 10             uint8  0 (0%)   231 (17%)\n",
      "OS_Windows 10 S           uint8  0 (0%)  1294 (99%)\n",
      "OS_Windows 7              uint8  0 (0%)  1257 (96%)\n",
      "OS_macOS                  uint8  0 (0%)  1289 (99%)\n"
     ]
    },
    {
     "data": {
      "text/html": [
       "<div>\n",
       "<style scoped>\n",
       "    .dataframe tbody tr th:only-of-type {\n",
       "        vertical-align: middle;\n",
       "    }\n",
       "\n",
       "    .dataframe tbody tr th {\n",
       "        vertical-align: top;\n",
       "    }\n",
       "\n",
       "    .dataframe thead th {\n",
       "        text-align: right;\n",
       "    }\n",
       "</style>\n",
       "<table border=\"1\" class=\"dataframe\">\n",
       "  <thead>\n",
       "    <tr style=\"text-align: right;\">\n",
       "      <th></th>\n",
       "      <th>RAM</th>\n",
       "      <th>Weight</th>\n",
       "      <th>Price</th>\n",
       "      <th>Resolution_1</th>\n",
       "      <th>IPS Panel</th>\n",
       "      <th>Touchscreen</th>\n",
       "      <th>Retina Display</th>\n",
       "      <th>CPU_Speed</th>\n",
       "      <th>SSD</th>\n",
       "      <th>HDD</th>\n",
       "      <th>...</th>\n",
       "      <th>Category_Ultrabook</th>\n",
       "      <th>Category_Workstation</th>\n",
       "      <th>OS_Android</th>\n",
       "      <th>OS_Chrome OS</th>\n",
       "      <th>OS_Linux</th>\n",
       "      <th>OS_Mac OS X</th>\n",
       "      <th>OS_Windows 10</th>\n",
       "      <th>OS_Windows 10 S</th>\n",
       "      <th>OS_Windows 7</th>\n",
       "      <th>OS_macOS</th>\n",
       "    </tr>\n",
       "  </thead>\n",
       "  <tbody>\n",
       "    <tr>\n",
       "      <th>0</th>\n",
       "      <td>8</td>\n",
       "      <td>0.314811</td>\n",
       "      <td>11912523.48</td>\n",
       "      <td>2560</td>\n",
       "      <td>1</td>\n",
       "      <td>0</td>\n",
       "      <td>1</td>\n",
       "      <td>2.3</td>\n",
       "      <td>4.852030</td>\n",
       "      <td>0.0</td>\n",
       "      <td>...</td>\n",
       "      <td>1</td>\n",
       "      <td>0</td>\n",
       "      <td>0</td>\n",
       "      <td>0</td>\n",
       "      <td>0</td>\n",
       "      <td>0</td>\n",
       "      <td>0</td>\n",
       "      <td>0</td>\n",
       "      <td>0</td>\n",
       "      <td>1</td>\n",
       "    </tr>\n",
       "    <tr>\n",
       "      <th>1</th>\n",
       "      <td>8</td>\n",
       "      <td>0.292670</td>\n",
       "      <td>7993374.48</td>\n",
       "      <td>1440</td>\n",
       "      <td>0</td>\n",
       "      <td>0</td>\n",
       "      <td>0</td>\n",
       "      <td>1.8</td>\n",
       "      <td>0.000000</td>\n",
       "      <td>0.0</td>\n",
       "      <td>...</td>\n",
       "      <td>1</td>\n",
       "      <td>0</td>\n",
       "      <td>0</td>\n",
       "      <td>0</td>\n",
       "      <td>0</td>\n",
       "      <td>0</td>\n",
       "      <td>0</td>\n",
       "      <td>0</td>\n",
       "      <td>0</td>\n",
       "      <td>1</td>\n",
       "    </tr>\n",
       "    <tr>\n",
       "      <th>2</th>\n",
       "      <td>8</td>\n",
       "      <td>0.620576</td>\n",
       "      <td>5112900.00</td>\n",
       "      <td>1920</td>\n",
       "      <td>0</td>\n",
       "      <td>0</td>\n",
       "      <td>0</td>\n",
       "      <td>2.5</td>\n",
       "      <td>5.545177</td>\n",
       "      <td>0.0</td>\n",
       "      <td>...</td>\n",
       "      <td>0</td>\n",
       "      <td>0</td>\n",
       "      <td>0</td>\n",
       "      <td>0</td>\n",
       "      <td>0</td>\n",
       "      <td>0</td>\n",
       "      <td>0</td>\n",
       "      <td>0</td>\n",
       "      <td>0</td>\n",
       "      <td>0</td>\n",
       "    </tr>\n",
       "    <tr>\n",
       "      <th>3</th>\n",
       "      <td>16</td>\n",
       "      <td>0.604316</td>\n",
       "      <td>22563005.40</td>\n",
       "      <td>2880</td>\n",
       "      <td>1</td>\n",
       "      <td>0</td>\n",
       "      <td>1</td>\n",
       "      <td>2.7</td>\n",
       "      <td>6.238325</td>\n",
       "      <td>0.0</td>\n",
       "      <td>...</td>\n",
       "      <td>1</td>\n",
       "      <td>0</td>\n",
       "      <td>0</td>\n",
       "      <td>0</td>\n",
       "      <td>0</td>\n",
       "      <td>0</td>\n",
       "      <td>0</td>\n",
       "      <td>0</td>\n",
       "      <td>0</td>\n",
       "      <td>1</td>\n",
       "    </tr>\n",
       "    <tr>\n",
       "      <th>4</th>\n",
       "      <td>8</td>\n",
       "      <td>0.314811</td>\n",
       "      <td>16037611.20</td>\n",
       "      <td>2560</td>\n",
       "      <td>1</td>\n",
       "      <td>0</td>\n",
       "      <td>1</td>\n",
       "      <td>3.1</td>\n",
       "      <td>5.545177</td>\n",
       "      <td>0.0</td>\n",
       "      <td>...</td>\n",
       "      <td>1</td>\n",
       "      <td>0</td>\n",
       "      <td>0</td>\n",
       "      <td>0</td>\n",
       "      <td>0</td>\n",
       "      <td>0</td>\n",
       "      <td>0</td>\n",
       "      <td>0</td>\n",
       "      <td>0</td>\n",
       "      <td>1</td>\n",
       "    </tr>\n",
       "  </tbody>\n",
       "</table>\n",
       "<p>5 rows × 41 columns</p>\n",
       "</div>"
      ],
      "text/plain": [
       "   RAM    Weight        Price  Resolution_1  IPS Panel  Touchscreen  \\\n",
       "0    8  0.314811  11912523.48          2560          1            0   \n",
       "1    8  0.292670   7993374.48          1440          0            0   \n",
       "2    8  0.620576   5112900.00          1920          0            0   \n",
       "3   16  0.604316  22563005.40          2880          1            0   \n",
       "4    8  0.314811  16037611.20          2560          1            0   \n",
       "\n",
       "   Retina Display  CPU_Speed       SSD  HDD  ...  Category_Ultrabook  \\\n",
       "0               1        2.3  4.852030  0.0  ...                   1   \n",
       "1               0        1.8  0.000000  0.0  ...                   1   \n",
       "2               0        2.5  5.545177  0.0  ...                   0   \n",
       "3               1        2.7  6.238325  0.0  ...                   1   \n",
       "4               1        3.1  5.545177  0.0  ...                   1   \n",
       "\n",
       "   Category_Workstation  OS_Android    OS_Chrome OS    OS_Linux    \\\n",
       "0                     0             0               0           0   \n",
       "1                     0             0               0           0   \n",
       "2                     0             0               0           0   \n",
       "3                     0             0               0           0   \n",
       "4                     0             0               0           0   \n",
       "\n",
       "   OS_Mac OS X  OS_Windows 10  OS_Windows 10 S  OS_Windows 7  OS_macOS    \n",
       "0            0              0                0             0           1  \n",
       "1            0              0                0             0           1  \n",
       "2            0              0                0             0           0  \n",
       "3            0              0                0             0           1  \n",
       "4            0              0                0             0           1  \n",
       "\n",
       "[5 rows x 41 columns]"
      ]
     },
     "execution_count": 12,
     "metadata": {},
     "output_type": "execute_result"
    }
   ],
   "source": [
    "#Version 1 - one hot encode\n",
    "df = pd.get_dummies(df, columns = ['Manufacturer','Category','OS'])\n",
    "df.drop(['Category_2 in 1 Convertible','Manufacturer_Chuwi','OS_No OS  '],axis=1, inplace=True)\n",
    "\n",
    "#Version 2 - just remove\n",
    "#df.drop(['Manufacturer','Category','OS'], axis=1, inplace=True)\n",
    "\n",
    "#Version 3 - assign custom rank\n",
    "#f['Manufacturer']=df['Manufacturer'].replace(['Apple','Huawei','Microsoft','MSI','Samsung','Google'],'3').replace(['Vero','Mediacom','Chuwi'],'1').replace(['Acer','Fujitsu'],'1.5').replace(['HP','Dell','Lenovo','Asus','Xiaomi'],'2').replace(['Toshiba'],'2.5').replace(['LG'],'3.5').replace(['Razer'],'4').astype(float)\n",
    "#f['Category']=df['Category'].replace({ 'Netbook' : 1, 'Notebook' : 2, '2 in 1 Convertible' : 3, 'Ultrabook' : 3.5, 'Gaming' : 4, 'Workstation' : 5 })\n",
    "#f = pd.get_dummies(df, columns = ['OS'])\n",
    "#f.drop(['OS_No OS  '],axis=1, inplace=True)\n",
    "\n",
    "\n",
    "df.drop(['Model Name','Screen',' Storage','GPU','CPU','Operating System','Operating System Version'],axis=1, inplace=True)\n",
    "summary(df)\n",
    "df.head(5)\n"
   ]
  },
  {
   "cell_type": "markdown",
   "id": "8a996ad4",
   "metadata": {
    "papermill": {
     "duration": 0.023261,
     "end_time": "2023-07-10T08:39:15.490997",
     "exception": false,
     "start_time": "2023-07-10T08:39:15.467736",
     "status": "completed"
    },
    "tags": []
   },
   "source": [
    "# Data Scaling\n",
    "\n",
    "We will now scale the numerical non-binary columns using MinMax Scaler to ensure all values fall within the same range."
   ]
  },
  {
   "cell_type": "code",
   "execution_count": 13,
   "id": "98957752",
   "metadata": {
    "execution": {
     "iopub.execute_input": "2023-07-10T08:39:15.542553Z",
     "iopub.status.busy": "2023-07-10T08:39:15.541005Z",
     "iopub.status.idle": "2023-07-10T08:39:15.579171Z",
     "shell.execute_reply": "2023-07-10T08:39:15.577695Z"
    },
    "papermill": {
     "duration": 0.0679,
     "end_time": "2023-07-10T08:39:15.582416",
     "exception": false,
     "start_time": "2023-07-10T08:39:15.514516",
     "status": "completed"
    },
    "tags": []
   },
   "outputs": [
    {
     "data": {
      "text/html": [
       "<div>\n",
       "<style scoped>\n",
       "    .dataframe tbody tr th:only-of-type {\n",
       "        vertical-align: middle;\n",
       "    }\n",
       "\n",
       "    .dataframe tbody tr th {\n",
       "        vertical-align: top;\n",
       "    }\n",
       "\n",
       "    .dataframe thead th {\n",
       "        text-align: right;\n",
       "    }\n",
       "</style>\n",
       "<table border=\"1\" class=\"dataframe\">\n",
       "  <thead>\n",
       "    <tr style=\"text-align: right;\">\n",
       "      <th></th>\n",
       "      <th>RAM</th>\n",
       "      <th>Weight</th>\n",
       "      <th>Price</th>\n",
       "      <th>Resolution_1</th>\n",
       "      <th>IPS Panel</th>\n",
       "      <th>Touchscreen</th>\n",
       "      <th>Retina Display</th>\n",
       "      <th>CPU_Speed</th>\n",
       "      <th>SSD</th>\n",
       "      <th>HDD</th>\n",
       "      <th>...</th>\n",
       "      <th>Category_Ultrabook</th>\n",
       "      <th>Category_Workstation</th>\n",
       "      <th>OS_Android</th>\n",
       "      <th>OS_Chrome OS</th>\n",
       "      <th>OS_Linux</th>\n",
       "      <th>OS_Mac OS X</th>\n",
       "      <th>OS_Windows 10</th>\n",
       "      <th>OS_Windows 10 S</th>\n",
       "      <th>OS_Windows 7</th>\n",
       "      <th>OS_macOS</th>\n",
       "    </tr>\n",
       "  </thead>\n",
       "  <tbody>\n",
       "    <tr>\n",
       "      <th>0</th>\n",
       "      <td>0.096774</td>\n",
       "      <td>0.357482</td>\n",
       "      <td>11912523.48</td>\n",
       "      <td>0.482619</td>\n",
       "      <td>1</td>\n",
       "      <td>0</td>\n",
       "      <td>1</td>\n",
       "      <td>0.518519</td>\n",
       "      <td>0.702403</td>\n",
       "      <td>0.0</td>\n",
       "      <td>...</td>\n",
       "      <td>1</td>\n",
       "      <td>0</td>\n",
       "      <td>0</td>\n",
       "      <td>0</td>\n",
       "      <td>0</td>\n",
       "      <td>0</td>\n",
       "      <td>0</td>\n",
       "      <td>0</td>\n",
       "      <td>0</td>\n",
       "      <td>1</td>\n",
       "    </tr>\n",
       "    <tr>\n",
       "      <th>1</th>\n",
       "      <td>0.096774</td>\n",
       "      <td>0.345942</td>\n",
       "      <td>7993374.48</td>\n",
       "      <td>0.029911</td>\n",
       "      <td>0</td>\n",
       "      <td>0</td>\n",
       "      <td>0</td>\n",
       "      <td>0.333333</td>\n",
       "      <td>0.000000</td>\n",
       "      <td>0.0</td>\n",
       "      <td>...</td>\n",
       "      <td>1</td>\n",
       "      <td>0</td>\n",
       "      <td>0</td>\n",
       "      <td>0</td>\n",
       "      <td>0</td>\n",
       "      <td>0</td>\n",
       "      <td>0</td>\n",
       "      <td>0</td>\n",
       "      <td>0</td>\n",
       "      <td>1</td>\n",
       "    </tr>\n",
       "    <tr>\n",
       "      <th>2</th>\n",
       "      <td>0.096774</td>\n",
       "      <td>0.516849</td>\n",
       "      <td>5112900.00</td>\n",
       "      <td>0.223929</td>\n",
       "      <td>0</td>\n",
       "      <td>0</td>\n",
       "      <td>0</td>\n",
       "      <td>0.592593</td>\n",
       "      <td>0.802747</td>\n",
       "      <td>0.0</td>\n",
       "      <td>...</td>\n",
       "      <td>0</td>\n",
       "      <td>0</td>\n",
       "      <td>0</td>\n",
       "      <td>0</td>\n",
       "      <td>0</td>\n",
       "      <td>0</td>\n",
       "      <td>0</td>\n",
       "      <td>0</td>\n",
       "      <td>0</td>\n",
       "      <td>0</td>\n",
       "    </tr>\n",
       "    <tr>\n",
       "      <th>3</th>\n",
       "      <td>0.225806</td>\n",
       "      <td>0.508374</td>\n",
       "      <td>22563005.40</td>\n",
       "      <td>0.611964</td>\n",
       "      <td>1</td>\n",
       "      <td>0</td>\n",
       "      <td>1</td>\n",
       "      <td>0.666667</td>\n",
       "      <td>0.903090</td>\n",
       "      <td>0.0</td>\n",
       "      <td>...</td>\n",
       "      <td>1</td>\n",
       "      <td>0</td>\n",
       "      <td>0</td>\n",
       "      <td>0</td>\n",
       "      <td>0</td>\n",
       "      <td>0</td>\n",
       "      <td>0</td>\n",
       "      <td>0</td>\n",
       "      <td>0</td>\n",
       "      <td>1</td>\n",
       "    </tr>\n",
       "    <tr>\n",
       "      <th>4</th>\n",
       "      <td>0.096774</td>\n",
       "      <td>0.357482</td>\n",
       "      <td>16037611.20</td>\n",
       "      <td>0.482619</td>\n",
       "      <td>1</td>\n",
       "      <td>0</td>\n",
       "      <td>1</td>\n",
       "      <td>0.814815</td>\n",
       "      <td>0.802747</td>\n",
       "      <td>0.0</td>\n",
       "      <td>...</td>\n",
       "      <td>1</td>\n",
       "      <td>0</td>\n",
       "      <td>0</td>\n",
       "      <td>0</td>\n",
       "      <td>0</td>\n",
       "      <td>0</td>\n",
       "      <td>0</td>\n",
       "      <td>0</td>\n",
       "      <td>0</td>\n",
       "      <td>1</td>\n",
       "    </tr>\n",
       "  </tbody>\n",
       "</table>\n",
       "<p>5 rows × 41 columns</p>\n",
       "</div>"
      ],
      "text/plain": [
       "        RAM    Weight        Price  Resolution_1  IPS Panel  Touchscreen  \\\n",
       "0  0.096774  0.357482  11912523.48      0.482619          1            0   \n",
       "1  0.096774  0.345942   7993374.48      0.029911          0            0   \n",
       "2  0.096774  0.516849   5112900.00      0.223929          0            0   \n",
       "3  0.225806  0.508374  22563005.40      0.611964          1            0   \n",
       "4  0.096774  0.357482  16037611.20      0.482619          1            0   \n",
       "\n",
       "   Retina Display  CPU_Speed       SSD  HDD  ...  Category_Ultrabook  \\\n",
       "0               1   0.518519  0.702403  0.0  ...                   1   \n",
       "1               0   0.333333  0.000000  0.0  ...                   1   \n",
       "2               0   0.592593  0.802747  0.0  ...                   0   \n",
       "3               1   0.666667  0.903090  0.0  ...                   1   \n",
       "4               1   0.814815  0.802747  0.0  ...                   1   \n",
       "\n",
       "   Category_Workstation  OS_Android    OS_Chrome OS    OS_Linux    \\\n",
       "0                     0             0               0           0   \n",
       "1                     0             0               0           0   \n",
       "2                     0             0               0           0   \n",
       "3                     0             0               0           0   \n",
       "4                     0             0               0           0   \n",
       "\n",
       "   OS_Mac OS X  OS_Windows 10  OS_Windows 10 S  OS_Windows 7  OS_macOS    \n",
       "0            0              0                0             0           1  \n",
       "1            0              0                0             0           1  \n",
       "2            0              0                0             0           0  \n",
       "3            0              0                0             0           1  \n",
       "4            0              0                0             0           1  \n",
       "\n",
       "[5 rows x 41 columns]"
      ]
     },
     "execution_count": 13,
     "metadata": {},
     "output_type": "execute_result"
    }
   ],
   "source": [
    "from sklearn.preprocessing import MinMaxScaler\n",
    "numeric_col=['RAM','Weight','Resolution_1','CPU_Speed','SSD','HDD']\n",
    "df[numeric_col] = MinMaxScaler().fit_transform(df[numeric_col])\n",
    "df.head(5)"
   ]
  },
  {
   "cell_type": "markdown",
   "id": "76320ab6",
   "metadata": {
    "papermill": {
     "duration": 0.023476,
     "end_time": "2023-07-10T08:39:15.629672",
     "exception": false,
     "start_time": "2023-07-10T08:39:15.606196",
     "status": "completed"
    },
    "tags": []
   },
   "source": [
    "# Test-Train Split\n",
    "With the dataset ready to be trained, we proceed to split the test and train data which were combined earlier for data cleansing. The algorithms will have their hyperparameters tuned using Optuna.\n",
    "\n",
    "We will try to fit this regression problem using the following algorithms and evaluate their performance based on R-squared, MAE and RMSE values:\n",
    "*  Linear Regression\n",
    "*  Linear SVR\n",
    "* Lasso\n",
    "* ElasticNet\n",
    "* Ridge\n",
    "* Decision Tree\n",
    "* Random Forest\n",
    "* Gradient Boost\n",
    "* XGBoost"
   ]
  },
  {
   "cell_type": "code",
   "execution_count": 14,
   "id": "c258a02d",
   "metadata": {
    "execution": {
     "iopub.execute_input": "2023-07-10T08:39:15.682496Z",
     "iopub.status.busy": "2023-07-10T08:39:15.681361Z",
     "iopub.status.idle": "2023-07-10T08:39:18.775236Z",
     "shell.execute_reply": "2023-07-10T08:39:18.773049Z"
    },
    "papermill": {
     "duration": 3.124875,
     "end_time": "2023-07-10T08:39:18.778807",
     "exception": false,
     "start_time": "2023-07-10T08:39:15.653932",
     "status": "completed"
    },
    "tags": []
   },
   "outputs": [
    {
     "data": {
      "text/html": [
       "<style type='text/css'>\n",
       ".datatable table.frame { margin-bottom: 0; }\n",
       ".datatable table.frame thead { border-bottom: none; }\n",
       ".datatable table.frame tr.coltypes td {  color: #FFFFFF;  line-height: 6px;  padding: 0 0.5em;}\n",
       ".datatable .bool    { background: #DDDD99; }\n",
       ".datatable .object  { background: #565656; }\n",
       ".datatable .int     { background: #5D9E5D; }\n",
       ".datatable .float   { background: #4040CC; }\n",
       ".datatable .str     { background: #CC4040; }\n",
       ".datatable .time    { background: #40CC40; }\n",
       ".datatable .row_index {  background: var(--jp-border-color3);  border-right: 1px solid var(--jp-border-color0);  color: var(--jp-ui-font-color3);  font-size: 9px;}\n",
       ".datatable .frame tbody td { text-align: left; }\n",
       ".datatable .frame tr.coltypes .row_index {  background: var(--jp-border-color0);}\n",
       ".datatable th:nth-child(2) { padding-left: 12px; }\n",
       ".datatable .hellipsis {  color: var(--jp-cell-editor-border-color);}\n",
       ".datatable .vellipsis {  background: var(--jp-layout-color0);  color: var(--jp-cell-editor-border-color);}\n",
       ".datatable .na {  color: var(--jp-cell-editor-border-color);  font-size: 80%;}\n",
       ".datatable .sp {  opacity: 0.25;}\n",
       ".datatable .footer { font-size: 9px; }\n",
       ".datatable .frame_dimensions {  background: var(--jp-border-color3);  border-top: 1px solid var(--jp-border-color0);  color: var(--jp-ui-font-color3);  display: inline-block;  opacity: 0.6;  padding: 1px 10px 1px 5px;}\n",
       "</style>\n"
      ],
      "text/plain": [
       "<IPython.core.display.HTML object>"
      ]
     },
     "metadata": {},
     "output_type": "display_data"
    }
   ],
   "source": [
    "import optuna\n",
    "from sklearn.metrics import r2_score\n",
    "from sklearn.linear_model import LinearRegression\n",
    "from sklearn.linear_model import Lasso\n",
    "from sklearn.linear_model import ElasticNet\n",
    "from sklearn.linear_model import Ridge\n",
    "from sklearn.svm import LinearSVR\n",
    "from sklearn.tree import DecisionTreeRegressor\n",
    "from sklearn.ensemble import RandomForestRegressor\n",
    "from sklearn.ensemble import GradientBoostingRegressor\n",
    "from lightgbm import LGBMRegressor\n",
    "from xgboost import XGBRegressor\n",
    "\n",
    "y_train=df['Price'].iloc[0:len(df_train)]\n",
    "x_train=df.drop(['Price'],axis=1).iloc[0:len(df_train)]\n",
    "y_test=df['Price'].iloc[len(df_train):]\n",
    "x_test=df.drop(['Price'],axis=1).iloc[len(df_train):]\n",
    "\n",
    "optuna.logging.set_verbosity(optuna.logging.WARNING)"
   ]
  },
  {
   "cell_type": "code",
   "execution_count": 15,
   "id": "deefcc87",
   "metadata": {
    "execution": {
     "iopub.execute_input": "2023-07-10T08:39:18.832840Z",
     "iopub.status.busy": "2023-07-10T08:39:18.832220Z",
     "iopub.status.idle": "2023-07-10T08:39:30.244206Z",
     "shell.execute_reply": "2023-07-10T08:39:30.242453Z"
    },
    "papermill": {
     "duration": 11.442336,
     "end_time": "2023-07-10T08:39:30.247336",
     "exception": false,
     "start_time": "2023-07-10T08:39:18.805000",
     "status": "completed"
    },
    "tags": []
   },
   "outputs": [
    {
     "data": {
      "text/plain": [
       "{'max_depth': 10, 'min_samples_leaf': 4}"
      ]
     },
     "execution_count": 15,
     "metadata": {},
     "output_type": "execute_result"
    }
   ],
   "source": [
    "def objective(trial):\n",
    "    #loss = trial.suggest_categorical('loss', ['squared_error', 'absolute_error', 'huber', 'quantile'])\n",
    "    #criterion = trial.suggest_categorical('criterion', ['squared_error', 'friedman_mse'])\n",
    "    #n_estimators = trial.suggest_int('n_estimators', 50, 150)\n",
    "    max_depth = trial.suggest_int('max_depth', 5, 10)\n",
    "    #min_samples_split = trial.suggest_int('min_samples_split', 2, 15)\n",
    "    min_samples_leaf = trial.suggest_int('min_samples_leaf', 2, 20)\n",
    "    #max_features = trial.suggest_categorical('max_features', ['auto','sqrt','log2'])\n",
    "    model = GradientBoostingRegressor(loss='squared_error', criterion='squared_error', max_depth=max_depth, min_samples_split=8, min_samples_leaf=min_samples_leaf, max_features='sqrt')\n",
    "    model.fit(x_train,y_train)\n",
    "    y_pred = model.predict(x_test)\n",
    "    r2 = r2_score(y_test, y_pred)\n",
    "    return r2\n",
    "\n",
    "study = optuna.create_study(direction='maximize')\n",
    "study.optimize(objective, n_trials=100)\n",
    "study.best_params\n"
   ]
  },
  {
   "cell_type": "code",
   "execution_count": 16,
   "id": "9595f54c",
   "metadata": {
    "execution": {
     "iopub.execute_input": "2023-07-10T08:39:30.301367Z",
     "iopub.status.busy": "2023-07-10T08:39:30.300243Z",
     "iopub.status.idle": "2023-07-10T08:39:31.164507Z",
     "shell.execute_reply": "2023-07-10T08:39:31.162963Z"
    },
    "papermill": {
     "duration": 0.895518,
     "end_time": "2023-07-10T08:39:31.168063",
     "exception": false,
     "start_time": "2023-07-10T08:39:30.272545",
     "status": "completed"
    },
    "tags": []
   },
   "outputs": [
    {
     "data": {
      "text/plain": [
       "{}"
      ]
     },
     "execution_count": 16,
     "metadata": {},
     "output_type": "execute_result"
    }
   ],
   "source": [
    "def objective(trial):\n",
    "    #criterion = trial.suggest_categorical('criterion', ['squared_error', 'friedman_mse','absolute_error', 'poisson'])\n",
    "    #splitter = trial.suggest_categorical('splitter', ['best','random'])\n",
    "    #max_depth = trial.suggest_int('max_depth', 5, 10)\n",
    "    #min_samples_split = trial.suggest_int('min_samples_split', 20, 50)\n",
    "    #min_samples_leaf = trial.suggest_int('min_samples_leaf', 2, 30)\n",
    "    #max_features = trial.suggest_categorical('max_features', ['auto','sqrt','log2'])\n",
    "    model = DecisionTreeRegressor(criterion='squared_error', splitter='best', max_depth=10, min_samples_split=28, min_samples_leaf=2, max_features='auto')\n",
    "    model.fit(x_train,y_train)\n",
    "    y_pred = model.predict(x_test)\n",
    "    r2 = r2_score(y_test, y_pred)\n",
    "    return r2\n",
    "\n",
    "study = optuna.create_study(direction='maximize')\n",
    "study.optimize(objective, n_trials=100)\n",
    "study.best_params\n",
    "\n"
   ]
  },
  {
   "cell_type": "code",
   "execution_count": 17,
   "id": "6047e23f",
   "metadata": {
    "execution": {
     "iopub.execute_input": "2023-07-10T08:39:31.220210Z",
     "iopub.status.busy": "2023-07-10T08:39:31.219730Z",
     "iopub.status.idle": "2023-07-10T08:40:13.265215Z",
     "shell.execute_reply": "2023-07-10T08:40:13.263373Z"
    },
    "papermill": {
     "duration": 42.099931,
     "end_time": "2023-07-10T08:40:13.292936",
     "exception": false,
     "start_time": "2023-07-10T08:39:31.193005",
     "status": "completed"
    },
    "tags": []
   },
   "outputs": [
    {
     "data": {
      "text/plain": [
       "{'max_depth': 15, 'min_samples_split': 11}"
      ]
     },
     "execution_count": 17,
     "metadata": {},
     "output_type": "execute_result"
    }
   ],
   "source": [
    "def objective(trial):\n",
    "    #criterion = trial.suggest_categorical('criterion', ['squared_error', 'friedman_mse','absolute_error', 'poisson'])\n",
    "    max_depth = trial.suggest_int('max_depth', 8, 15)\n",
    "    min_samples_split = trial.suggest_int('min_samples_split', 2, 20)\n",
    "    #min_samples_leaf = trial.suggest_int('min_samples_leaf', 2, 5)\n",
    "    #max_features = trial.suggest_categorical('max_features', ['auto','sqrt','log2'])\n",
    "    model = RandomForestRegressor(criterion='friedman_mse', max_depth=max_depth, min_samples_split=min_samples_split, min_samples_leaf=2, max_features='auto')\n",
    "    model.fit(x_train,y_train)\n",
    "    y_pred = model.predict(x_test)\n",
    "    r2 = r2_score(y_test, y_pred)\n",
    "    return r2\n",
    "\n",
    "study = optuna.create_study(direction='maximize')\n",
    "study.optimize(objective, n_trials=100)\n",
    "study.best_params\n"
   ]
  },
  {
   "cell_type": "code",
   "execution_count": 18,
   "id": "b5c5b7a4",
   "metadata": {
    "execution": {
     "iopub.execute_input": "2023-07-10T08:40:13.348687Z",
     "iopub.status.busy": "2023-07-10T08:40:13.347530Z",
     "iopub.status.idle": "2023-07-10T08:40:21.459347Z",
     "shell.execute_reply": "2023-07-10T08:40:21.457206Z"
    },
    "papermill": {
     "duration": 8.145738,
     "end_time": "2023-07-10T08:40:21.464935",
     "exception": false,
     "start_time": "2023-07-10T08:40:13.319197",
     "status": "completed"
    },
    "tags": []
   },
   "outputs": [
    {
     "data": {
      "text/plain": [
       "{'alpha': 0.9997139788035094,\n",
       " 'tol': 0.16199880190932456,\n",
       " 'fit_intercept': 'True',\n",
       " 'max_iter': 41,\n",
       " 'warm_start': 'True'}"
      ]
     },
     "execution_count": 18,
     "metadata": {},
     "output_type": "execute_result"
    }
   ],
   "source": [
    "def objective(trial):\n",
    "    alpha = trial.suggest_float('alpha', 0.01,1)\n",
    "    tol=trial.suggest_float('tol',0.15, 0.6)\n",
    "    fit_intercept = trial.suggest_categorical('fit_intercept', ['True', 'False'])\n",
    "    max_iter = trial.suggest_int('max_iter',10,50)\n",
    "    warm_start=trial.suggest_categorical('warm_start',['True','False'])\n",
    "    #positive=trial.suggest_categorical('positive',['True','False'])\n",
    "    #selection=trial.suggest_categorical('selection',['cyclic','random'])\n",
    "    model = Lasso(tol=tol, alpha=alpha, fit_intercept=fit_intercept, max_iter=max_iter, positive=False, warm_start=warm_start, selection='cyclic')\n",
    "\n",
    "    model.fit(x_train,y_train)\n",
    "    y_pred = model.predict(x_test)\n",
    "    r2 = r2_score(y_test, y_pred)\n",
    "    return r2\n",
    "\n",
    "study = optuna.create_study(direction='maximize')\n",
    "study.optimize(objective, n_trials=100)\n",
    "study.best_params"
   ]
  },
  {
   "cell_type": "code",
   "execution_count": 19,
   "id": "616d2d95",
   "metadata": {
    "execution": {
     "iopub.execute_input": "2023-07-10T08:40:21.572611Z",
     "iopub.status.busy": "2023-07-10T08:40:21.572109Z",
     "iopub.status.idle": "2023-07-10T08:40:31.722680Z",
     "shell.execute_reply": "2023-07-10T08:40:31.720717Z"
    },
    "papermill": {
     "duration": 10.209719,
     "end_time": "2023-07-10T08:40:31.729024",
     "exception": false,
     "start_time": "2023-07-10T08:40:21.519305",
     "status": "completed"
    },
    "tags": []
   },
   "outputs": [
    {
     "data": {
      "text/plain": [
       "{'alpha': 0.002239257652868306,\n",
       " 'tol': 0.1828160282159671,\n",
       " 'l1_ratio': 1.0833803174085201,\n",
       " 'fit_intercept': 'True',\n",
       " 'max_iter': 43,\n",
       " 'warm_start': 'False',\n",
       " 'positive': 'False',\n",
       " 'selection': 'random'}"
      ]
     },
     "execution_count": 19,
     "metadata": {},
     "output_type": "execute_result"
    }
   ],
   "source": [
    "def objective(trial):\n",
    "    alpha = trial.suggest_float('alpha', 0.002,0.003)\n",
    "    tol=trial.suggest_float('tol',0.18, 0.19)\n",
    "    l1_ratio=trial.suggest_float('l1_ratio',0.04, 1.5)\n",
    "    fit_intercept = trial.suggest_categorical('fit_intercept', ['True', 'False'])\n",
    "    max_iter = trial.suggest_int('max_iter',5,100)\n",
    "    warm_start=trial.suggest_categorical('warm_start',['True','False'])\n",
    "    positive=trial.suggest_categorical('positive',['True','False'])\n",
    "    selection=trial.suggest_categorical('selection',['cyclic','random'])\n",
    "    model = ElasticNet(tol=tol, alpha=alpha, fit_intercept=fit_intercept, max_iter=max_iter, positive=positive, warm_start=warm_start, selection=selection)\n",
    "\n",
    "    model.fit(x_train,y_train)\n",
    "    y_pred = model.predict(x_test)\n",
    "    r2 = r2_score(y_test, y_pred)\n",
    "    return r2\n",
    "\n",
    "study = optuna.create_study(direction='maximize')\n",
    "study.optimize(objective, n_trials=100)\n",
    "study.best_params"
   ]
  },
  {
   "cell_type": "code",
   "execution_count": 20,
   "id": "c8dba2fe",
   "metadata": {
    "execution": {
     "iopub.execute_input": "2023-07-10T08:40:31.835538Z",
     "iopub.status.busy": "2023-07-10T08:40:31.834927Z",
     "iopub.status.idle": "2023-07-10T08:40:35.863617Z",
     "shell.execute_reply": "2023-07-10T08:40:35.862081Z"
    },
    "papermill": {
     "duration": 4.079444,
     "end_time": "2023-07-10T08:40:35.868452",
     "exception": false,
     "start_time": "2023-07-10T08:40:31.789008",
     "status": "completed"
    },
    "tags": []
   },
   "outputs": [
    {
     "data": {
      "text/plain": [
       "{'alpha': 0.4654058133642768, 'fit_intercept': 'True'}"
      ]
     },
     "execution_count": 20,
     "metadata": {},
     "output_type": "execute_result"
    }
   ],
   "source": [
    "def objective(trial):\n",
    "    alpha = trial.suggest_float('alpha', 0.001,1)\n",
    "    fit_intercept = trial.suggest_categorical('fit_intercept', ['True', 'False'])\n",
    "    #solver=trial.suggest_categorical('solver',['auto','svd','cholesky','lsqr','sparse_cg','sag','saga'])\n",
    "    #model = Ridge(alpha=alpha, fit_intercept=fit_intercept, solver=solver, positive=False)\n",
    "    #solver=trial.suggest_categorical('solver',['auto','lbfgs'])\n",
    "    model = Ridge(alpha=alpha, fit_intercept=fit_intercept, solver='lbfgs', positive=True)\n",
    "\n",
    "    model.fit(x_train,y_train)\n",
    "    y_pred = model.predict(x_test)\n",
    "    r2 = r2_score(y_test, y_pred)\n",
    "    return r2\n",
    "\n",
    "study = optuna.create_study(direction='maximize')\n",
    "study.optimize(objective, n_trials=100)\n",
    "study.best_params"
   ]
  },
  {
   "cell_type": "code",
   "execution_count": 21,
   "id": "3f4f975b",
   "metadata": {
    "execution": {
     "iopub.execute_input": "2023-07-10T08:40:35.979856Z",
     "iopub.status.busy": "2023-07-10T08:40:35.978403Z",
     "iopub.status.idle": "2023-07-10T08:40:46.887635Z",
     "shell.execute_reply": "2023-07-10T08:40:46.885660Z"
    },
    "papermill": {
     "duration": 10.969392,
     "end_time": "2023-07-10T08:40:46.893357",
     "exception": false,
     "start_time": "2023-07-10T08:40:35.923965",
     "status": "completed"
    },
    "tags": []
   },
   "outputs": [
    {
     "name": "stderr",
     "output_type": "stream",
     "text": [
      "/opt/conda/lib/python3.7/site-packages/sklearn/svm/_base.py:1208: ConvergenceWarning: Liblinear failed to converge, increase the number of iterations.\n",
      "  ConvergenceWarning,\n",
      "/opt/conda/lib/python3.7/site-packages/sklearn/svm/_base.py:1208: ConvergenceWarning: Liblinear failed to converge, increase the number of iterations.\n",
      "  ConvergenceWarning,\n"
     ]
    },
    {
     "data": {
      "text/plain": [
       "{'tol': 0.12094531494303987,\n",
       " 'C': 0.8834152654052335,\n",
       " 'epsilon': 0.05446723712613074,\n",
       " 'intercept_scaling': 1.1632959882274059,\n",
       " 'max_iter': 76}"
      ]
     },
     "execution_count": 21,
     "metadata": {},
     "output_type": "execute_result"
    }
   ],
   "source": [
    "def objective(trial):\n",
    "    #loss=trial.suggest_categorical('loss',['epsilon_insensitive','squared_epsilon_insensitive'])\n",
    "    tol=trial.suggest_float('tol',0.06,0.5)\n",
    "    C=trial.suggest_float('C',0.001,1)\n",
    "    epsilon=trial.suggest_float('epsilon',0.001,0.1)\n",
    "    #fit_intercept=trial.suggest_categorical('fit_intercept',['True','False'])\n",
    "    intercept_scaling=trial.suggest_float('intercept_scaling',0.001,2)\n",
    "    max_iter=trial.suggest_int('max_iter',10,200)\n",
    "    model = LinearSVR(loss='squared_epsilon_insensitive', tol=tol, C=C, epsilon=epsilon, fit_intercept=False, intercept_scaling=intercept_scaling, max_iter=max_iter)\n",
    "\n",
    "    model.fit(x_train,y_train)\n",
    "    y_pred = model.predict(x_test)\n",
    "    r2 = r2_score(y_test, y_pred)\n",
    "    return r2\n",
    "\n",
    "study = optuna.create_study(direction='maximize')\n",
    "study.optimize(objective, n_trials=100)\n",
    "study.best_params"
   ]
  },
  {
   "cell_type": "code",
   "execution_count": 22,
   "id": "5d3492a9",
   "metadata": {
    "_kg_hide-input": true,
    "execution": {
     "iopub.execute_input": "2023-07-10T08:40:47.002387Z",
     "iopub.status.busy": "2023-07-10T08:40:47.001905Z",
     "iopub.status.idle": "2023-07-10T08:41:26.715005Z",
     "shell.execute_reply": "2023-07-10T08:41:26.713662Z"
    },
    "papermill": {
     "duration": 39.785711,
     "end_time": "2023-07-10T08:41:26.735202",
     "exception": false,
     "start_time": "2023-07-10T08:40:46.949491",
     "status": "completed"
    },
    "tags": []
   },
   "outputs": [
    {
     "data": {
      "text/plain": [
       "{'eta': 0.25940691252805, 'gamma': 0.7203868765894162}"
      ]
     },
     "execution_count": 22,
     "metadata": {},
     "output_type": "execute_result"
    }
   ],
   "source": [
    "def objective(trial):\n",
    "    eta = trial.suggest_float('eta', 0.24,0.28)\n",
    "    #min_child_weights = trial.suggest_float('min_child_weights', 0.5, 1)\n",
    "    #max_depth = trial.suggest_int('max_depth', 3, 5)\n",
    "    gamma=trial.suggest_float('gamma',0.7,1)\n",
    "    #subsample = trial.suggest_float('subsample', 0.8,1)\n",
    "    model = XGBRegressor(eta=eta, max_depth=3, gamma=gamma, subsample=0.99)\n",
    "    model.fit(x_train,y_train)\n",
    "    y_pred = model.predict(x_test)\n",
    "    r2 = r2_score(y_test, y_pred)\n",
    "    return r2\n",
    "\n",
    "study = optuna.create_study(direction='maximize')\n",
    "study.optimize(objective, n_trials=100)\n",
    "study.best_params"
   ]
  },
  {
   "cell_type": "code",
   "execution_count": 23,
   "id": "da0da492",
   "metadata": {
    "execution": {
     "iopub.execute_input": "2023-07-10T08:41:26.791335Z",
     "iopub.status.busy": "2023-07-10T08:41:26.789970Z",
     "iopub.status.idle": "2023-07-10T08:41:26.825450Z",
     "shell.execute_reply": "2023-07-10T08:41:26.822917Z"
    },
    "papermill": {
     "duration": 0.071117,
     "end_time": "2023-07-10T08:41:26.832826",
     "exception": false,
     "start_time": "2023-07-10T08:41:26.761709",
     "status": "completed"
    },
    "tags": []
   },
   "outputs": [
    {
     "name": "stdout",
     "output_type": "stream",
     "text": [
      "R-squared:  0.7199\n",
      "Mean Absolute Error:  2,307,395.09\n",
      "Root Mean Squared Error:  3,140,389.59\n"
     ]
    }
   ],
   "source": [
    "SVR = LinearSVR(tol=0.19464901232627588, intercept_scaling=0.39959576178102174, C=0.7942999942357071, epsilon=0.0914737309086926, loss='squared_epsilon_insensitive', fit_intercept=False, max_iter=36)\n",
    "SVR.fit(x_train, y_train)\n",
    "y_pred = SVR.predict(x_test)\n",
    "print(\"R-squared: \", \"%.4f\" % r2_score(y_test, y_pred))\n",
    "print(\"Mean Absolute Error: \", \"{0:,.2f}\".format(mean_absolute_error(y_test, y_pred)))\n",
    "print(\"Root Mean Squared Error: \", \"{0:,.2f}\".format(np.sqrt(mean_squared_error(y_test, y_pred))))"
   ]
  },
  {
   "cell_type": "code",
   "execution_count": 24,
   "id": "10f35230",
   "metadata": {
    "execution": {
     "iopub.execute_input": "2023-07-10T08:41:26.940289Z",
     "iopub.status.busy": "2023-07-10T08:41:26.939817Z",
     "iopub.status.idle": "2023-07-10T08:41:26.975270Z",
     "shell.execute_reply": "2023-07-10T08:41:26.973249Z"
    },
    "papermill": {
     "duration": 0.090409,
     "end_time": "2023-07-10T08:41:26.980452",
     "exception": false,
     "start_time": "2023-07-10T08:41:26.890043",
     "status": "completed"
    },
    "tags": []
   },
   "outputs": [
    {
     "name": "stdout",
     "output_type": "stream",
     "text": [
      "R-squared:  0.7095\n",
      "Mean Absolute Error:  2,321,944.94\n",
      "Root Mean Squared Error:  3,198,147.15\n"
     ]
    }
   ],
   "source": [
    "LR = LinearRegression()\n",
    "LR.fit(x_train, y_train)\n",
    "y_pred = LR.predict(x_test)\n",
    "print(\"R-squared: \", \"%.4f\" % r2_score(y_test, y_pred))\n",
    "print(\"Mean Absolute Error: \", \"{0:,.2f}\".format(mean_absolute_error(y_test, y_pred)))\n",
    "print(\"Root Mean Squared Error: \", \"{0:,.2f}\".format(np.sqrt(mean_squared_error(y_test, y_pred))))"
   ]
  },
  {
   "cell_type": "code",
   "execution_count": 25,
   "id": "0e1892fe",
   "metadata": {
    "execution": {
     "iopub.execute_input": "2023-07-10T08:41:27.093401Z",
     "iopub.status.busy": "2023-07-10T08:41:27.092949Z",
     "iopub.status.idle": "2023-07-10T08:41:27.119994Z",
     "shell.execute_reply": "2023-07-10T08:41:27.117848Z"
    },
    "papermill": {
     "duration": 0.088983,
     "end_time": "2023-07-10T08:41:27.125220",
     "exception": false,
     "start_time": "2023-07-10T08:41:27.036237",
     "status": "completed"
    },
    "tags": []
   },
   "outputs": [
    {
     "name": "stdout",
     "output_type": "stream",
     "text": [
      "R-squared:  0.6985\n",
      "Mean Absolute Error:  2,380,029.26\n",
      "Root Mean Squared Error:  3,258,435.01\n"
     ]
    }
   ],
   "source": [
    "LS = Lasso(alpha=0.9729, tol=0.21, fit_intercept=True, max_iter=32, warm_start=False, positive=True, selection='random')\n",
    "LS.fit(x_train, y_train)\n",
    "y_pred = LS.predict(x_test)\n",
    "print(\"R-squared: \", \"%.4f\" % r2_score(y_test, y_pred))\n",
    "print(\"Mean Absolute Error: \", \"{0:,.2f}\".format(mean_absolute_error(y_test, y_pred)))\n",
    "print(\"Root Mean Squared Error: \", \"{0:,.2f}\".format(np.sqrt(mean_squared_error(y_test, y_pred))))"
   ]
  },
  {
   "cell_type": "code",
   "execution_count": 26,
   "id": "9ce0137a",
   "metadata": {
    "execution": {
     "iopub.execute_input": "2023-07-10T08:41:27.237761Z",
     "iopub.status.busy": "2023-07-10T08:41:27.237203Z",
     "iopub.status.idle": "2023-07-10T08:41:27.271664Z",
     "shell.execute_reply": "2023-07-10T08:41:27.269332Z"
    },
    "papermill": {
     "duration": 0.095378,
     "end_time": "2023-07-10T08:41:27.277035",
     "exception": false,
     "start_time": "2023-07-10T08:41:27.181657",
     "status": "completed"
    },
    "tags": []
   },
   "outputs": [
    {
     "name": "stdout",
     "output_type": "stream",
     "text": [
      "R-squared:  0.6983\n",
      "Mean Absolute Error:  2,390,714.25\n",
      "Root Mean Squared Error:  3,259,157.29\n"
     ]
    }
   ],
   "source": [
    "EN = ElasticNet(l1_ratio=0.28645777, alpha=0.0021715385, tol=0.1809, fit_intercept=True, max_iter=42, warm_start=True, positive=True, selection='random')\n",
    "EN.fit(x_train, y_train)\n",
    "y_pred = EN.predict(x_test)\n",
    "print(\"R-squared: \", \"%.4f\" % r2_score(y_test, y_pred))\n",
    "print(\"Mean Absolute Error: \", \"{0:,.2f}\".format(mean_absolute_error(y_test, y_pred)))\n",
    "print(\"Root Mean Squared Error: \", \"{0:,.2f}\".format(np.sqrt(mean_squared_error(y_test, y_pred))))"
   ]
  },
  {
   "cell_type": "code",
   "execution_count": 27,
   "id": "7e9312cc",
   "metadata": {
    "execution": {
     "iopub.execute_input": "2023-07-10T08:41:27.387920Z",
     "iopub.status.busy": "2023-07-10T08:41:27.386850Z",
     "iopub.status.idle": "2023-07-10T08:41:27.424812Z",
     "shell.execute_reply": "2023-07-10T08:41:27.422861Z"
    },
    "papermill": {
     "duration": 0.095834,
     "end_time": "2023-07-10T08:41:27.429989",
     "exception": false,
     "start_time": "2023-07-10T08:41:27.334155",
     "status": "completed"
    },
    "tags": []
   },
   "outputs": [
    {
     "name": "stdout",
     "output_type": "stream",
     "text": [
      "R-squared:  0.7154\n",
      "Mean Absolute Error:  2,259,599.41\n",
      "Root Mean Squared Error:  3,165,877.68\n"
     ]
    }
   ],
   "source": [
    "RD = Ridge(alpha=0.4653746, solver='lbfgs', fit_intercept=False, positive=True)\n",
    "RD.fit(x_train, y_train)\n",
    "y_pred = RD.predict(x_test)\n",
    "print(\"R-squared: \", \"%.4f\" % r2_score(y_test, y_pred))\n",
    "print(\"Mean Absolute Error: \", \"{0:,.2f}\".format(mean_absolute_error(y_test, y_pred)))\n",
    "print(\"Root Mean Squared Error: \", \"{0:,.2f}\".format(np.sqrt(mean_squared_error(y_test, y_pred))))"
   ]
  },
  {
   "cell_type": "code",
   "execution_count": 28,
   "id": "09243644",
   "metadata": {
    "execution": {
     "iopub.execute_input": "2023-07-10T08:41:27.543325Z",
     "iopub.status.busy": "2023-07-10T08:41:27.542698Z",
     "iopub.status.idle": "2023-07-10T08:41:27.565848Z",
     "shell.execute_reply": "2023-07-10T08:41:27.564101Z"
    },
    "papermill": {
     "duration": 0.081561,
     "end_time": "2023-07-10T08:41:27.569509",
     "exception": false,
     "start_time": "2023-07-10T08:41:27.487948",
     "status": "completed"
    },
    "tags": []
   },
   "outputs": [
    {
     "name": "stdout",
     "output_type": "stream",
     "text": [
      "R-squared:  0.7325\n",
      "Mean Absolute Error:  2,088,034.77\n",
      "Root Mean Squared Error:  3,069,377.84\n"
     ]
    }
   ],
   "source": [
    "DT = DecisionTreeRegressor(criterion='squared_error', splitter='best', max_depth=10, min_samples_split=28, min_samples_leaf=2, max_features='auto')\n",
    "DT.fit(x_train, y_train)\n",
    "y_pred = DT.predict(x_test)\n",
    "print(\"R-squared: \", \"%.4f\" % r2_score(y_test, y_pred))\n",
    "print(\"Mean Absolute Error: \", \"{0:,.2f}\".format(mean_absolute_error(y_test, y_pred)))\n",
    "print(\"Root Mean Squared Error: \", \"{0:,.2f}\".format(np.sqrt(mean_squared_error(y_test, y_pred))))"
   ]
  },
  {
   "cell_type": "code",
   "execution_count": 29,
   "id": "59a1c7e9",
   "metadata": {
    "execution": {
     "iopub.execute_input": "2023-07-10T08:41:27.627705Z",
     "iopub.status.busy": "2023-07-10T08:41:27.627158Z",
     "iopub.status.idle": "2023-07-10T08:41:28.026135Z",
     "shell.execute_reply": "2023-07-10T08:41:28.024349Z"
    },
    "papermill": {
     "duration": 0.430424,
     "end_time": "2023-07-10T08:41:28.029410",
     "exception": false,
     "start_time": "2023-07-10T08:41:27.598986",
     "status": "completed"
    },
    "tags": []
   },
   "outputs": [
    {
     "name": "stdout",
     "output_type": "stream",
     "text": [
      "R-squared:  0.7431\n",
      "Mean Absolute Error:  2,011,300.19\n",
      "Root Mean Squared Error:  3,007,832.63\n"
     ]
    }
   ],
   "source": [
    "RF = RandomForestRegressor(criterion='friedman_mse', max_depth=13, min_samples_split=13, min_samples_leaf=2, max_features='auto')\n",
    "RF.fit(x_train, y_train)\n",
    "y_pred = RF.predict(x_test)\n",
    "print(\"R-squared: \", \"%.4f\" % r2_score(y_test, y_pred))\n",
    "print(\"Mean Absolute Error: \", \"{0:,.2f}\".format(mean_absolute_error(y_test, y_pred)))\n",
    "print(\"Root Mean Squared Error: \", \"{0:,.2f}\".format(np.sqrt(mean_squared_error(y_test, y_pred))))"
   ]
  },
  {
   "cell_type": "code",
   "execution_count": 30,
   "id": "b40184aa",
   "metadata": {
    "execution": {
     "iopub.execute_input": "2023-07-10T08:41:28.088234Z",
     "iopub.status.busy": "2023-07-10T08:41:28.087287Z",
     "iopub.status.idle": "2023-07-10T08:41:28.193733Z",
     "shell.execute_reply": "2023-07-10T08:41:28.192050Z"
    },
    "papermill": {
     "duration": 0.140574,
     "end_time": "2023-07-10T08:41:28.197074",
     "exception": false,
     "start_time": "2023-07-10T08:41:28.056500",
     "status": "completed"
    },
    "tags": []
   },
   "outputs": [
    {
     "name": "stdout",
     "output_type": "stream",
     "text": [
      "R-squared:  0.7914\n",
      "Mean Absolute Error:  1,774,075.22\n",
      "Root Mean Squared Error:  2,710,194.20\n"
     ]
    }
   ],
   "source": [
    "GB = GradientBoostingRegressor(loss='squared_error', criterion= 'squared_error', max_features= 'sqrt', max_depth=8, min_samples_split=5, min_samples_leaf=3)\n",
    "GB.fit(x_train, y_train)\n",
    "y_pred = GB.predict(x_test)\n",
    "print(\"R-squared: \", \"%.4f\" % r2_score(y_test, y_pred))\n",
    "print(\"Mean Absolute Error: \", \"{0:,.2f}\".format(mean_absolute_error(y_test, y_pred)))\n",
    "print(\"Root Mean Squared Error: \", \"{0:,.2f}\".format(np.sqrt(mean_squared_error(y_test, y_pred))))"
   ]
  },
  {
   "cell_type": "code",
   "execution_count": 31,
   "id": "c18e101f",
   "metadata": {
    "execution": {
     "iopub.execute_input": "2023-07-10T08:41:28.257403Z",
     "iopub.status.busy": "2023-07-10T08:41:28.256905Z",
     "iopub.status.idle": "2023-07-10T08:41:28.623010Z",
     "shell.execute_reply": "2023-07-10T08:41:28.621654Z"
    },
    "papermill": {
     "duration": 0.399693,
     "end_time": "2023-07-10T08:41:28.626419",
     "exception": false,
     "start_time": "2023-07-10T08:41:28.226726",
     "status": "completed"
    },
    "tags": []
   },
   "outputs": [
    {
     "name": "stdout",
     "output_type": "stream",
     "text": [
      "R-squared:  0.8230\n",
      "Mean Absolute Error:  1,714,265.38\n",
      "Root Mean Squared Error:  2,496,452.52\n"
     ]
    }
   ],
   "source": [
    "XG = XGBRegressor(eta=0.22194817, max_depth=3, gamma=0.881835, subsample=0.833423)\n",
    "#XG = XGBRegressor(eta=0.15530849245464934, max_depth=3, gamma=0.7421963441059264, subsample=0.8100368086395764)\n",
    "XG.fit(x_train, y_train)\n",
    "y_pred = XG.predict(x_test)\n",
    "print(\"R-squared: \", \"%.4f\" % r2_score(y_test, y_pred))\n",
    "print(\"Mean Absolute Error: \", \"{0:,.2f}\".format(mean_absolute_error(y_test, y_pred)))\n",
    "print(\"Root Mean Squared Error: \", \"{0:,.2f}\".format(np.sqrt(mean_squared_error(y_test, y_pred))))"
   ]
  }
 ],
 "metadata": {
  "kernelspec": {
   "display_name": "Python 3 (ipykernel)",
   "language": "python",
   "name": "python3"
  },
  "language_info": {
   "codemirror_mode": {
    "name": "ipython",
    "version": 3
   },
   "file_extension": ".py",
   "mimetype": "text/x-python",
   "name": "python",
   "nbconvert_exporter": "python",
   "pygments_lexer": "ipython3",
   "version": "3.9.13"
  },
  "papermill": {
   "default_parameters": {},
   "duration": 159.37275,
   "end_time": "2023-07-10T08:41:30.186453",
   "environment_variables": {},
   "exception": null,
   "input_path": "__notebook__.ipynb",
   "output_path": "__notebook__.ipynb",
   "parameters": {},
   "start_time": "2023-07-10T08:38:50.813703",
   "version": "2.4.0"
  }
 },
 "nbformat": 4,
 "nbformat_minor": 5
}
